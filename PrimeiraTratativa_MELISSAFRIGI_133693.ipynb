{
  "nbformat": 4,
  "nbformat_minor": 0,
  "metadata": {
    "colab": {
      "provenance": []
    },
    "kernelspec": {
      "name": "python3",
      "display_name": "Python 3"
    },
    "language_info": {
      "name": "python"
    }
  },
  "cells": [
    {
      "cell_type": "markdown",
      "source": [
        "# Algoritmos de Ensemble Learning para Análise Preditiva acerca de Desastres Naturais"
      ],
      "metadata": {
        "id": "2CcBFeXziMmO"
      }
    },
    {
      "cell_type": "markdown",
      "source": [
        "### Objetivos do Projeto:\n",
        "\n",
        "\n",
        "*   Carregar a base de dados: informações gerais da base de dados original\n",
        "*   Pré-processamento: limpeza, normalização e formatação dos dados\n",
        "*   Exploração do dataset\n",
        "*   Aplicação dos algoritmos: Separação em treino e teste, aplicar o algoritmo com aplicação e MSE por algoritmo,\n",
        "*   Validação do Algoritmo\n",
        "\n",
        "\n",
        "\n",
        "\n",
        "\n",
        "\n",
        "\n"
      ],
      "metadata": {
        "id": "hrKDTUk6ibEb"
      }
    },
    {
      "cell_type": "markdown",
      "source": [
        "# Visão Geral do Dataset\n",
        "A seguir, algumas informações gerais sobre os dados da base EM - DAT: The International Disaster Database, como número de colunas/atributos, algumas informações estatísticas e tipos de dados.\n",
        "\n"
      ],
      "metadata": {
        "id": "MFwYGZxMht2v"
      }
    },
    {
      "cell_type": "code",
      "execution_count": null,
      "metadata": {
        "colab": {
          "base_uri": "https://localhost:8080/"
        },
        "id": "XaDJSea1Txbg",
        "outputId": "c2764ed4-8c30-4539-c877-25c6b7703042"
      },
      "outputs": [
        {
          "output_type": "stream",
          "name": "stdout",
          "text": [
            "Drive already mounted at /content/drive; to attempt to forcibly remount, call drive.mount(\"/content/drive\", force_remount=True).\n"
          ]
        }
      ],
      "source": [
        "# Acessando a base de dados salvos no google drive\n",
        "\n",
        "from google.colab import drive\n",
        "drive.mount('/content/drive')"
      ]
    },
    {
      "cell_type": "code",
      "source": [
        "# Utilizando as bibliotecas os e pandas para verificar os arquivos na pasta do drive\n",
        "\n",
        "import os\n",
        "import pandas as pd\n",
        "\n",
        "# Caminho para a pasta no Drive\n",
        "folder_path = '/content/drive/MyDrive/Colab Notebooks/datasetTrabFinal'\n",
        "\n",
        "# Listar os arquivos na pasta\n",
        "files = os.listdir(folder_path)\n",
        "print(files)\n"
      ],
      "metadata": {
        "colab": {
          "base_uri": "https://localhost:8080/"
        },
        "id": "VkJ0EiX7WxDI",
        "outputId": "a67a6cb8-e253-48bb-bf82-9bba5c006f5d"
      },
      "execution_count": null,
      "outputs": [
        {
          "output_type": "stream",
          "name": "stdout",
          "text": [
            "['public_emdat_incl_hist_2024-07-15.xlsx', 'public_emdat_incl_hist_2024-07-15.csv']\n"
          ]
        }
      ]
    },
    {
      "cell_type": "code",
      "source": [
        "# Especificar o caminho para o arquivo Excel\n",
        "excel_file = '/content/drive/MyDrive/Colab Notebooks/datasetTrabFinal/public_emdat_incl_hist_2024-07-15.xlsx'\n",
        "\n",
        "# Ler o arquivo Excel\n",
        "df_excel = pd.read_excel(excel_file)\n",
        "#print(df_excel.head())"
      ],
      "metadata": {
        "id": "rxL1BXjnYFIU",
        "collapsed": true
      },
      "execution_count": null,
      "outputs": []
    },
    {
      "cell_type": "code",
      "source": [
        "# Convertendo o arquivo para .csv\n",
        "csv_file = '/content/drive/MyDrive/Colab Notebooks/datasetTrabFinal/public_emdat_incl_hist_2024-07-15.csv'\n",
        "df_excel.to_csv(csv_file, index=False)\n",
        "\n",
        "# Lendo os arquivos .csv e mostrando as 5 primeiras linhas de algumas colunas\n",
        "data = pd.read_csv(csv_file)\n",
        "print(data.head())"
      ],
      "metadata": {
        "colab": {
          "base_uri": "https://localhost:8080/"
        },
        "id": "wK8CvIykbajK",
        "outputId": "7af9dc98-4484-4ab8-e1a0-82167eb709f3"
      },
      "execution_count": null,
      "outputs": [
        {
          "output_type": "stream",
          "name": "stdout",
          "text": [
            "          DisNo. Historic Classification Key Disaster Group  \\\n",
            "0  1900-0003-USA      Yes    nat-met-sto-tro        Natural   \n",
            "1  1900-0005-USA      Yes    tec-ind-fir-fir  Technological   \n",
            "2  1900-0006-JAM      Yes    nat-hyd-flo-flo        Natural   \n",
            "3  1900-0007-JAM      Yes    nat-bio-epi-vir        Natural   \n",
            "4  1900-0008-JPN      Yes    nat-geo-vol-ash        Natural   \n",
            "\n",
            "     Disaster Subgroup      Disaster Type   Disaster Subtype External IDs  \\\n",
            "0       Meteorological              Storm   Tropical cyclone          NaN   \n",
            "1  Industrial accident  Fire (Industrial)  Fire (Industrial)          NaN   \n",
            "2         Hydrological              Flood    Flood (General)          NaN   \n",
            "3           Biological           Epidemic      Viral disease          NaN   \n",
            "4          Geophysical  Volcanic activity           Ash fall          NaN   \n",
            "\n",
            "        Event Name  ISO  ... Reconstruction Costs ('000 US$)  \\\n",
            "0              NaN  USA  ...                             NaN   \n",
            "1              NaN  USA  ...                             NaN   \n",
            "2              NaN  JAM  ...                             NaN   \n",
            "3  Gastroenteritis  JAM  ...                             NaN   \n",
            "4              NaN  JPN  ...                             NaN   \n",
            "\n",
            "  Reconstruction Costs, Adjusted ('000 US$) Insured Damage ('000 US$)  \\\n",
            "0                                       NaN                       NaN   \n",
            "1                                       NaN                       NaN   \n",
            "2                                       NaN                       NaN   \n",
            "3                                       NaN                       NaN   \n",
            "4                                       NaN                       NaN   \n",
            "\n",
            "  Insured Damage, Adjusted ('000 US$) Total Damage ('000 US$)  \\\n",
            "0                                 NaN                 30000.0   \n",
            "1                                 NaN                     NaN   \n",
            "2                                 NaN                     NaN   \n",
            "3                                 NaN                     NaN   \n",
            "4                                 NaN                     NaN   \n",
            "\n",
            "  Total Damage, Adjusted ('000 US$)       CPI Admin Units  Entry Date  \\\n",
            "0                         1098720.0  2.730451         NaN  2004-10-18   \n",
            "1                               NaN  2.730451         NaN  2003-07-01   \n",
            "2                               NaN  2.730451         NaN  2003-07-01   \n",
            "3                               NaN  2.730451         NaN  2003-07-01   \n",
            "4                               NaN  2.730451         NaN  2003-07-01   \n",
            "\n",
            "   Last Update  \n",
            "0   2023-10-17  \n",
            "1   2023-09-25  \n",
            "2   2023-09-25  \n",
            "3   2023-09-25  \n",
            "4   2023-09-25  \n",
            "\n",
            "[5 rows x 46 columns]\n"
          ]
        }
      ]
    },
    {
      "cell_type": "code",
      "source": [
        "# Mostrando todas as colunas do dataset\n",
        "data.columns.values"
      ],
      "metadata": {
        "colab": {
          "base_uri": "https://localhost:8080/"
        },
        "id": "IeAEltxWdN8M",
        "outputId": "fa0e9dc9-5640-4b75-94f6-e89fe9141ca2"
      },
      "execution_count": null,
      "outputs": [
        {
          "output_type": "execute_result",
          "data": {
            "text/plain": [
              "array(['DisNo.', 'Historic', 'Classification Key', 'Disaster Group',\n",
              "       'Disaster Subgroup', 'Disaster Type', 'Disaster Subtype',\n",
              "       'External IDs', 'Event Name', 'ISO', 'Country', 'Subregion',\n",
              "       'Region', 'Location', 'Origin', 'Associated Types',\n",
              "       'OFDA/BHA Response', 'Appeal', 'Declaration',\n",
              "       \"AID Contribution ('000 US$)\", 'Magnitude', 'Magnitude Scale',\n",
              "       'Latitude', 'Longitude', 'River Basin', 'Start Year',\n",
              "       'Start Month', 'Start Day', 'End Year', 'End Month', 'End Day',\n",
              "       'Total Deaths', 'No. Injured', 'No. Affected', 'No. Homeless',\n",
              "       'Total Affected', \"Reconstruction Costs ('000 US$)\",\n",
              "       \"Reconstruction Costs, Adjusted ('000 US$)\",\n",
              "       \"Insured Damage ('000 US$)\", \"Insured Damage, Adjusted ('000 US$)\",\n",
              "       \"Total Damage ('000 US$)\", \"Total Damage, Adjusted ('000 US$)\",\n",
              "       'CPI', 'Admin Units', 'Entry Date', 'Last Update'], dtype=object)"
            ]
          },
          "metadata": {},
          "execution_count": 5
        }
      ]
    },
    {
      "cell_type": "markdown",
      "source": [
        "### Informações sobre o Dataset:\n",
        "A base adquirida do EM - DAT: The International Disaster Database possui informações de desastres tanto naturais quanto tecnológicos (sendo apenas a primeira caterogia alvo deste estudo).\n",
        "Antes da limpeza, a base possui 26632 entradas/linhas, 46 colunas/atributos e dados dos atributos tipo \"objeto\", float e inteiro. Note que há muitas colunas com poucos valores não nulos, como o \"River Basin\"  e \"Reconstruction Costs ('000 US$\").\n"
      ],
      "metadata": {
        "id": "or0di7zSeZKQ"
      }
    },
    {
      "cell_type": "code",
      "source": [
        "data.info()"
      ],
      "metadata": {
        "colab": {
          "base_uri": "https://localhost:8080/"
        },
        "id": "i2kqbXvUcle5",
        "outputId": "73185063-13ba-49ec-e255-776f67e869a1"
      },
      "execution_count": null,
      "outputs": [
        {
          "output_type": "stream",
          "name": "stdout",
          "text": [
            "<class 'pandas.core.frame.DataFrame'>\n",
            "RangeIndex: 26632 entries, 0 to 26631\n",
            "Data columns (total 46 columns):\n",
            " #   Column                                     Non-Null Count  Dtype  \n",
            "---  ------                                     --------------  -----  \n",
            " 0   DisNo.                                     26632 non-null  object \n",
            " 1   Historic                                   26632 non-null  object \n",
            " 2   Classification Key                         26632 non-null  object \n",
            " 3   Disaster Group                             26632 non-null  object \n",
            " 4   Disaster Subgroup                          26632 non-null  object \n",
            " 5   Disaster Type                              26632 non-null  object \n",
            " 6   Disaster Subtype                           26632 non-null  object \n",
            " 7   External IDs                               2419 non-null   object \n",
            " 8   Event Name                                 8352 non-null   object \n",
            " 9   ISO                                        26632 non-null  object \n",
            " 10  Country                                    26632 non-null  object \n",
            " 11  Subregion                                  26632 non-null  object \n",
            " 12  Region                                     26632 non-null  object \n",
            " 13  Location                                   24187 non-null  object \n",
            " 14  Origin                                     4463 non-null   object \n",
            " 15  Associated Types                           3903 non-null   object \n",
            " 16  OFDA/BHA Response                          26632 non-null  object \n",
            " 17  Appeal                                     26632 non-null  object \n",
            " 18  Declaration                                26632 non-null  object \n",
            " 19  AID Contribution ('000 US$)                788 non-null    float64\n",
            " 20  Magnitude                                  5206 non-null   float64\n",
            " 21  Magnitude Scale                            16682 non-null  object \n",
            " 22  Latitude                                   2794 non-null   float64\n",
            " 23  Longitude                                  2794 non-null   float64\n",
            " 24  River Basin                                1396 non-null   object \n",
            " 25  Start Year                                 26632 non-null  int64  \n",
            " 26  Start Month                                26127 non-null  float64\n",
            " 27  Start Day                                  22625 non-null  float64\n",
            " 28  End Year                                   26632 non-null  int64  \n",
            " 29  End Month                                  25819 non-null  float64\n",
            " 30  End Day                                    22716 non-null  float64\n",
            " 31  Total Deaths                               21128 non-null  float64\n",
            " 32  No. Injured                                8655 non-null   float64\n",
            " 33  No. Affected                               10933 non-null  float64\n",
            " 34  No. Homeless                               2670 non-null   float64\n",
            " 35  Total Affected                             17716 non-null  float64\n",
            " 36  Reconstruction Costs ('000 US$)            42 non-null     float64\n",
            " 37  Reconstruction Costs, Adjusted ('000 US$)  42 non-null     float64\n",
            " 38  Insured Damage ('000 US$)                  1126 non-null   float64\n",
            " 39  Insured Damage, Adjusted ('000 US$)        1125 non-null   float64\n",
            " 40  Total Damage ('000 US$)                    5735 non-null   float64\n",
            " 41  Total Damage, Adjusted ('000 US$)          5719 non-null   float64\n",
            " 42  CPI                                        26398 non-null  float64\n",
            " 43  Admin Units                                8527 non-null   object \n",
            " 44  Entry Date                                 26632 non-null  object \n",
            " 45  Last Update                                26632 non-null  object \n",
            "dtypes: float64(20), int64(2), object(24)\n",
            "memory usage: 9.3+ MB\n"
          ]
        }
      ]
    },
    {
      "cell_type": "markdown",
      "source": [
        "### Valores Nulos no Dataset:\n",
        "Alguns atributos possuem poucos valores preenchidos no dataset, como os relacionados com custos de reconstrução, custo de danos totais e números de pessoas afetadas, sem lar e feridas, por exemplo."
      ],
      "metadata": {
        "id": "xUUhuOiTvqjz"
      }
    },
    {
      "cell_type": "code",
      "source": [
        "data.isna().sum()"
      ],
      "metadata": {
        "colab": {
          "base_uri": "https://localhost:8080/",
          "height": 1000
        },
        "id": "VSebW0KsqgMs",
        "outputId": "8db1c62a-1b62-4d71-ad52-2d868dd1d02a"
      },
      "execution_count": null,
      "outputs": [
        {
          "output_type": "execute_result",
          "data": {
            "text/plain": [
              "DisNo.                                           0\n",
              "Historic                                         0\n",
              "Classification Key                               0\n",
              "Disaster Group                                   0\n",
              "Disaster Subgroup                                0\n",
              "Disaster Type                                    0\n",
              "Disaster Subtype                                 0\n",
              "External IDs                                 24213\n",
              "Event Name                                   18280\n",
              "ISO                                              0\n",
              "Country                                          0\n",
              "Subregion                                        0\n",
              "Region                                           0\n",
              "Location                                      2445\n",
              "Origin                                       22169\n",
              "Associated Types                             22729\n",
              "OFDA/BHA Response                                0\n",
              "Appeal                                           0\n",
              "Declaration                                      0\n",
              "AID Contribution ('000 US$)                  25844\n",
              "Magnitude                                    21426\n",
              "Magnitude Scale                               9950\n",
              "Latitude                                     23838\n",
              "Longitude                                    23838\n",
              "River Basin                                  25236\n",
              "Start Year                                       0\n",
              "Start Month                                    505\n",
              "Start Day                                     4007\n",
              "End Year                                         0\n",
              "End Month                                      813\n",
              "End Day                                       3916\n",
              "Total Deaths                                  5504\n",
              "No. Injured                                  17977\n",
              "No. Affected                                 15699\n",
              "No. Homeless                                 23962\n",
              "Total Affected                                8916\n",
              "Reconstruction Costs ('000 US$)              26590\n",
              "Reconstruction Costs, Adjusted ('000 US$)    26590\n",
              "Insured Damage ('000 US$)                    25506\n",
              "Insured Damage, Adjusted ('000 US$)          25507\n",
              "Total Damage ('000 US$)                      20897\n",
              "Total Damage, Adjusted ('000 US$)            20913\n",
              "CPI                                            234\n",
              "Admin Units                                  18105\n",
              "Entry Date                                       0\n",
              "Last Update                                      0\n",
              "dtype: int64"
            ],
            "text/html": [
              "<div>\n",
              "<style scoped>\n",
              "    .dataframe tbody tr th:only-of-type {\n",
              "        vertical-align: middle;\n",
              "    }\n",
              "\n",
              "    .dataframe tbody tr th {\n",
              "        vertical-align: top;\n",
              "    }\n",
              "\n",
              "    .dataframe thead th {\n",
              "        text-align: right;\n",
              "    }\n",
              "</style>\n",
              "<table border=\"1\" class=\"dataframe\">\n",
              "  <thead>\n",
              "    <tr style=\"text-align: right;\">\n",
              "      <th></th>\n",
              "      <th>0</th>\n",
              "    </tr>\n",
              "  </thead>\n",
              "  <tbody>\n",
              "    <tr>\n",
              "      <th>DisNo.</th>\n",
              "      <td>0</td>\n",
              "    </tr>\n",
              "    <tr>\n",
              "      <th>Historic</th>\n",
              "      <td>0</td>\n",
              "    </tr>\n",
              "    <tr>\n",
              "      <th>Classification Key</th>\n",
              "      <td>0</td>\n",
              "    </tr>\n",
              "    <tr>\n",
              "      <th>Disaster Group</th>\n",
              "      <td>0</td>\n",
              "    </tr>\n",
              "    <tr>\n",
              "      <th>Disaster Subgroup</th>\n",
              "      <td>0</td>\n",
              "    </tr>\n",
              "    <tr>\n",
              "      <th>Disaster Type</th>\n",
              "      <td>0</td>\n",
              "    </tr>\n",
              "    <tr>\n",
              "      <th>Disaster Subtype</th>\n",
              "      <td>0</td>\n",
              "    </tr>\n",
              "    <tr>\n",
              "      <th>External IDs</th>\n",
              "      <td>24213</td>\n",
              "    </tr>\n",
              "    <tr>\n",
              "      <th>Event Name</th>\n",
              "      <td>18280</td>\n",
              "    </tr>\n",
              "    <tr>\n",
              "      <th>ISO</th>\n",
              "      <td>0</td>\n",
              "    </tr>\n",
              "    <tr>\n",
              "      <th>Country</th>\n",
              "      <td>0</td>\n",
              "    </tr>\n",
              "    <tr>\n",
              "      <th>Subregion</th>\n",
              "      <td>0</td>\n",
              "    </tr>\n",
              "    <tr>\n",
              "      <th>Region</th>\n",
              "      <td>0</td>\n",
              "    </tr>\n",
              "    <tr>\n",
              "      <th>Location</th>\n",
              "      <td>2445</td>\n",
              "    </tr>\n",
              "    <tr>\n",
              "      <th>Origin</th>\n",
              "      <td>22169</td>\n",
              "    </tr>\n",
              "    <tr>\n",
              "      <th>Associated Types</th>\n",
              "      <td>22729</td>\n",
              "    </tr>\n",
              "    <tr>\n",
              "      <th>OFDA/BHA Response</th>\n",
              "      <td>0</td>\n",
              "    </tr>\n",
              "    <tr>\n",
              "      <th>Appeal</th>\n",
              "      <td>0</td>\n",
              "    </tr>\n",
              "    <tr>\n",
              "      <th>Declaration</th>\n",
              "      <td>0</td>\n",
              "    </tr>\n",
              "    <tr>\n",
              "      <th>AID Contribution ('000 US$)</th>\n",
              "      <td>25844</td>\n",
              "    </tr>\n",
              "    <tr>\n",
              "      <th>Magnitude</th>\n",
              "      <td>21426</td>\n",
              "    </tr>\n",
              "    <tr>\n",
              "      <th>Magnitude Scale</th>\n",
              "      <td>9950</td>\n",
              "    </tr>\n",
              "    <tr>\n",
              "      <th>Latitude</th>\n",
              "      <td>23838</td>\n",
              "    </tr>\n",
              "    <tr>\n",
              "      <th>Longitude</th>\n",
              "      <td>23838</td>\n",
              "    </tr>\n",
              "    <tr>\n",
              "      <th>River Basin</th>\n",
              "      <td>25236</td>\n",
              "    </tr>\n",
              "    <tr>\n",
              "      <th>Start Year</th>\n",
              "      <td>0</td>\n",
              "    </tr>\n",
              "    <tr>\n",
              "      <th>Start Month</th>\n",
              "      <td>505</td>\n",
              "    </tr>\n",
              "    <tr>\n",
              "      <th>Start Day</th>\n",
              "      <td>4007</td>\n",
              "    </tr>\n",
              "    <tr>\n",
              "      <th>End Year</th>\n",
              "      <td>0</td>\n",
              "    </tr>\n",
              "    <tr>\n",
              "      <th>End Month</th>\n",
              "      <td>813</td>\n",
              "    </tr>\n",
              "    <tr>\n",
              "      <th>End Day</th>\n",
              "      <td>3916</td>\n",
              "    </tr>\n",
              "    <tr>\n",
              "      <th>Total Deaths</th>\n",
              "      <td>5504</td>\n",
              "    </tr>\n",
              "    <tr>\n",
              "      <th>No. Injured</th>\n",
              "      <td>17977</td>\n",
              "    </tr>\n",
              "    <tr>\n",
              "      <th>No. Affected</th>\n",
              "      <td>15699</td>\n",
              "    </tr>\n",
              "    <tr>\n",
              "      <th>No. Homeless</th>\n",
              "      <td>23962</td>\n",
              "    </tr>\n",
              "    <tr>\n",
              "      <th>Total Affected</th>\n",
              "      <td>8916</td>\n",
              "    </tr>\n",
              "    <tr>\n",
              "      <th>Reconstruction Costs ('000 US$)</th>\n",
              "      <td>26590</td>\n",
              "    </tr>\n",
              "    <tr>\n",
              "      <th>Reconstruction Costs, Adjusted ('000 US$)</th>\n",
              "      <td>26590</td>\n",
              "    </tr>\n",
              "    <tr>\n",
              "      <th>Insured Damage ('000 US$)</th>\n",
              "      <td>25506</td>\n",
              "    </tr>\n",
              "    <tr>\n",
              "      <th>Insured Damage, Adjusted ('000 US$)</th>\n",
              "      <td>25507</td>\n",
              "    </tr>\n",
              "    <tr>\n",
              "      <th>Total Damage ('000 US$)</th>\n",
              "      <td>20897</td>\n",
              "    </tr>\n",
              "    <tr>\n",
              "      <th>Total Damage, Adjusted ('000 US$)</th>\n",
              "      <td>20913</td>\n",
              "    </tr>\n",
              "    <tr>\n",
              "      <th>CPI</th>\n",
              "      <td>234</td>\n",
              "    </tr>\n",
              "    <tr>\n",
              "      <th>Admin Units</th>\n",
              "      <td>18105</td>\n",
              "    </tr>\n",
              "    <tr>\n",
              "      <th>Entry Date</th>\n",
              "      <td>0</td>\n",
              "    </tr>\n",
              "    <tr>\n",
              "      <th>Last Update</th>\n",
              "      <td>0</td>\n",
              "    </tr>\n",
              "  </tbody>\n",
              "</table>\n",
              "</div><br><label><b>dtype:</b> int64</label>"
            ]
          },
          "metadata": {},
          "execution_count": 7
        }
      ]
    },
    {
      "cell_type": "markdown",
      "source": [
        "# Pré-processamento dos Dados"
      ],
      "metadata": {
        "id": "1c9S_qHctMzk"
      }
    },
    {
      "cell_type": "markdown",
      "source": [
        "### Limpeza dos Dados\n",
        "Devido a grande dimensão da base e sua abrangência, algumas colunas e estradas serão desconsideradas para a aplicação do algoritmo, pois não apresentam informações relevantes para o tema do projeto, ou não são alvo do estudo de desastres naturais (por exemplo desastres tecnológicos ou bioloógicos). Em seguida, será feito o preenchimento ou eliminação de algumas linhas de colunas que estão vazias, de acordo com alguns critérios estabelecidos.\n",
        "\n",
        "A limpeza começará pela eliminação de entradas que não são o alvo do estudo deste trabalho, como a entrada \"Technological\" do atributo Disaster Group."
      ],
      "metadata": {
        "id": "j8iBJMQtxYov"
      }
    },
    {
      "cell_type": "code",
      "source": [
        "# Identificar os índices das linhas a serem removidas\n",
        "remove_index = data[data['Disaster Group'] == 'Technological'].index\n",
        "\n",
        "# Remover as linhas com esses índices\n",
        "new_data = data.drop(remove_index)\n",
        "print(new_data)"
      ],
      "metadata": {
        "id": "yA_sAA7Iw34e",
        "colab": {
          "base_uri": "https://localhost:8080/"
        },
        "outputId": "1f9481a9-c976-4676-f6ff-34b4f9afae51"
      },
      "execution_count": null,
      "outputs": [
        {
          "output_type": "stream",
          "name": "stdout",
          "text": [
            "              DisNo. Historic Classification Key Disaster Group  \\\n",
            "0      1900-0003-USA      Yes    nat-met-sto-tro        Natural   \n",
            "2      1900-0006-JAM      Yes    nat-hyd-flo-flo        Natural   \n",
            "3      1900-0007-JAM      Yes    nat-bio-epi-vir        Natural   \n",
            "4      1900-0008-JPN      Yes    nat-geo-vol-ash        Natural   \n",
            "5      1900-0009-TUR      Yes    nat-geo-ear-gro        Natural   \n",
            "...              ...      ...                ...            ...   \n",
            "26627  2024-9075-COL       No    nat-cli-dro-dro        Natural   \n",
            "26628  2024-9131-ZMB       No    nat-cli-dro-dro        Natural   \n",
            "26629  2024-9135-MHL       No    nat-cli-dro-dro        Natural   \n",
            "26630  2024-9197-MWI       No    nat-cli-dro-dro        Natural   \n",
            "26631  2024-9197-ZWE       No    nat-cli-dro-dro        Natural   \n",
            "\n",
            "      Disaster Subgroup      Disaster Type  Disaster Subtype  \\\n",
            "0        Meteorological              Storm  Tropical cyclone   \n",
            "2          Hydrological              Flood   Flood (General)   \n",
            "3            Biological           Epidemic     Viral disease   \n",
            "4           Geophysical  Volcanic activity          Ash fall   \n",
            "5           Geophysical         Earthquake   Ground movement   \n",
            "...                 ...                ...               ...   \n",
            "26627    Climatological            Drought           Drought   \n",
            "26628    Climatological            Drought           Drought   \n",
            "26629    Climatological            Drought           Drought   \n",
            "26630    Climatological            Drought           Drought   \n",
            "26631    Climatological            Drought           Drought   \n",
            "\n",
            "               External IDs       Event Name  ISO  ...  \\\n",
            "0                       NaN              NaN  USA  ...   \n",
            "2                       NaN              NaN  JAM  ...   \n",
            "3                       NaN  Gastroenteritis  JAM  ...   \n",
            "4                       NaN              NaN  JPN  ...   \n",
            "5                       NaN              NaN  TUR  ...   \n",
            "...                     ...              ...  ...  ...   \n",
            "26627  GLIDE:DR-2024-000013              NaN  COL  ...   \n",
            "26628  GLIDE:DR-2024-000018              NaN  ZMB  ...   \n",
            "26629                   NaN              NaN  MHL  ...   \n",
            "26630                   NaN              NaN  MWI  ...   \n",
            "26631                   NaN              NaN  ZWE  ...   \n",
            "\n",
            "      Reconstruction Costs ('000 US$)  \\\n",
            "0                                 NaN   \n",
            "2                                 NaN   \n",
            "3                                 NaN   \n",
            "4                                 NaN   \n",
            "5                                 NaN   \n",
            "...                               ...   \n",
            "26627                             NaN   \n",
            "26628                             NaN   \n",
            "26629                             NaN   \n",
            "26630                             NaN   \n",
            "26631                             NaN   \n",
            "\n",
            "      Reconstruction Costs, Adjusted ('000 US$) Insured Damage ('000 US$)  \\\n",
            "0                                           NaN                       NaN   \n",
            "2                                           NaN                       NaN   \n",
            "3                                           NaN                       NaN   \n",
            "4                                           NaN                       NaN   \n",
            "5                                           NaN                       NaN   \n",
            "...                                         ...                       ...   \n",
            "26627                                       NaN                       NaN   \n",
            "26628                                       NaN                       NaN   \n",
            "26629                                       NaN                       NaN   \n",
            "26630                                       NaN                       NaN   \n",
            "26631                                       NaN                       NaN   \n",
            "\n",
            "      Insured Damage, Adjusted ('000 US$) Total Damage ('000 US$)  \\\n",
            "0                                     NaN                 30000.0   \n",
            "2                                     NaN                     NaN   \n",
            "3                                     NaN                     NaN   \n",
            "4                                     NaN                     NaN   \n",
            "5                                     NaN                     NaN   \n",
            "...                                   ...                     ...   \n",
            "26627                                 NaN                     NaN   \n",
            "26628                                 NaN                     NaN   \n",
            "26629                                 NaN                     NaN   \n",
            "26630                                 NaN                     NaN   \n",
            "26631                                 NaN                     NaN   \n",
            "\n",
            "      Total Damage, Adjusted ('000 US$)       CPI  \\\n",
            "0                             1098720.0  2.730451   \n",
            "2                                   NaN  2.730451   \n",
            "3                                   NaN  2.730451   \n",
            "4                                   NaN  2.730451   \n",
            "5                                   NaN  2.730451   \n",
            "...                                 ...       ...   \n",
            "26627                               NaN       NaN   \n",
            "26628                               NaN       NaN   \n",
            "26629                               NaN       NaN   \n",
            "26630                               NaN       NaN   \n",
            "26631                               NaN       NaN   \n",
            "\n",
            "                                             Admin Units  Entry Date  \\\n",
            "0                                                    NaN  2004-10-18   \n",
            "2                                                    NaN  2003-07-01   \n",
            "3                                                    NaN  2003-07-01   \n",
            "4                                                    NaN  2003-07-01   \n",
            "5                                                    NaN  2019-08-05   \n",
            "...                                                  ...         ...   \n",
            "26627  [{\"adm1_code\":939,\"adm1_name\":\"Boyaca\"},{\"adm1...  2024-02-13   \n",
            "26628                                                NaN  2024-03-12   \n",
            "26629  [{\"adm1_code\":2002,\"adm1_name\":\"Administrative...  2024-03-13   \n",
            "26630                                                NaN  2024-04-05   \n",
            "26631                                                NaN  2024-04-05   \n",
            "\n",
            "       Last Update  \n",
            "0       2023-10-17  \n",
            "2       2023-09-25  \n",
            "3       2023-09-25  \n",
            "4       2023-09-25  \n",
            "5       2023-09-25  \n",
            "...            ...  \n",
            "26627   2024-06-14  \n",
            "26628   2024-06-17  \n",
            "26629   2024-04-10  \n",
            "26630   2024-05-14  \n",
            "26631   2024-05-14  \n",
            "\n",
            "[17142 rows x 46 columns]\n"
          ]
        }
      ]
    },
    {
      "cell_type": "code",
      "source": [
        "# Também serão removidas as entradas \"Biological\" e \"Extra-terrestrial\" do atributo Disaster Subgroup.\n",
        "\n",
        "# Identificar os índices das linhas a serem removidas\n",
        "remove_indices_subgroup = new_data[new_data['Disaster Subgroup'].isin(['Biological', 'Extra-terrestrial'])].index\n",
        "\n",
        "# Remover as linhas com esses índices\n",
        "new_df = new_data.drop(remove_indices_subgroup)\n",
        "print(new_df)"
      ],
      "metadata": {
        "colab": {
          "base_uri": "https://localhost:8080/"
        },
        "id": "gM5Dp30ojDLC",
        "outputId": "d5c47901-f5d3-457b-dca8-a3d0fad2878e"
      },
      "execution_count": null,
      "outputs": [
        {
          "output_type": "stream",
          "name": "stdout",
          "text": [
            "              DisNo. Historic Classification Key Disaster Group  \\\n",
            "0      1900-0003-USA      Yes    nat-met-sto-tro        Natural   \n",
            "2      1900-0006-JAM      Yes    nat-hyd-flo-flo        Natural   \n",
            "4      1900-0008-JPN      Yes    nat-geo-vol-ash        Natural   \n",
            "5      1900-0009-TUR      Yes    nat-geo-ear-gro        Natural   \n",
            "6      1900-9001-IND      Yes    nat-cli-dro-dro        Natural   \n",
            "...              ...      ...                ...            ...   \n",
            "26627  2024-9075-COL       No    nat-cli-dro-dro        Natural   \n",
            "26628  2024-9131-ZMB       No    nat-cli-dro-dro        Natural   \n",
            "26629  2024-9135-MHL       No    nat-cli-dro-dro        Natural   \n",
            "26630  2024-9197-MWI       No    nat-cli-dro-dro        Natural   \n",
            "26631  2024-9197-ZWE       No    nat-cli-dro-dro        Natural   \n",
            "\n",
            "      Disaster Subgroup      Disaster Type  Disaster Subtype  \\\n",
            "0        Meteorological              Storm  Tropical cyclone   \n",
            "2          Hydrological              Flood   Flood (General)   \n",
            "4           Geophysical  Volcanic activity          Ash fall   \n",
            "5           Geophysical         Earthquake   Ground movement   \n",
            "6        Climatological            Drought           Drought   \n",
            "...                 ...                ...               ...   \n",
            "26627    Climatological            Drought           Drought   \n",
            "26628    Climatological            Drought           Drought   \n",
            "26629    Climatological            Drought           Drought   \n",
            "26630    Climatological            Drought           Drought   \n",
            "26631    Climatological            Drought           Drought   \n",
            "\n",
            "               External IDs Event Name  ISO  ...  \\\n",
            "0                       NaN        NaN  USA  ...   \n",
            "2                       NaN        NaN  JAM  ...   \n",
            "4                       NaN        NaN  JPN  ...   \n",
            "5                       NaN        NaN  TUR  ...   \n",
            "6                       NaN        NaN  IND  ...   \n",
            "...                     ...        ...  ...  ...   \n",
            "26627  GLIDE:DR-2024-000013        NaN  COL  ...   \n",
            "26628  GLIDE:DR-2024-000018        NaN  ZMB  ...   \n",
            "26629                   NaN        NaN  MHL  ...   \n",
            "26630                   NaN        NaN  MWI  ...   \n",
            "26631                   NaN        NaN  ZWE  ...   \n",
            "\n",
            "      Reconstruction Costs ('000 US$)  \\\n",
            "0                                 NaN   \n",
            "2                                 NaN   \n",
            "4                                 NaN   \n",
            "5                                 NaN   \n",
            "6                                 NaN   \n",
            "...                               ...   \n",
            "26627                             NaN   \n",
            "26628                             NaN   \n",
            "26629                             NaN   \n",
            "26630                             NaN   \n",
            "26631                             NaN   \n",
            "\n",
            "      Reconstruction Costs, Adjusted ('000 US$) Insured Damage ('000 US$)  \\\n",
            "0                                           NaN                       NaN   \n",
            "2                                           NaN                       NaN   \n",
            "4                                           NaN                       NaN   \n",
            "5                                           NaN                       NaN   \n",
            "6                                           NaN                       NaN   \n",
            "...                                         ...                       ...   \n",
            "26627                                       NaN                       NaN   \n",
            "26628                                       NaN                       NaN   \n",
            "26629                                       NaN                       NaN   \n",
            "26630                                       NaN                       NaN   \n",
            "26631                                       NaN                       NaN   \n",
            "\n",
            "      Insured Damage, Adjusted ('000 US$) Total Damage ('000 US$)  \\\n",
            "0                                     NaN                 30000.0   \n",
            "2                                     NaN                     NaN   \n",
            "4                                     NaN                     NaN   \n",
            "5                                     NaN                     NaN   \n",
            "6                                     NaN                     NaN   \n",
            "...                                   ...                     ...   \n",
            "26627                                 NaN                     NaN   \n",
            "26628                                 NaN                     NaN   \n",
            "26629                                 NaN                     NaN   \n",
            "26630                                 NaN                     NaN   \n",
            "26631                                 NaN                     NaN   \n",
            "\n",
            "      Total Damage, Adjusted ('000 US$)       CPI  \\\n",
            "0                             1098720.0  2.730451   \n",
            "2                                   NaN  2.730451   \n",
            "4                                   NaN  2.730451   \n",
            "5                                   NaN  2.730451   \n",
            "6                                   NaN  2.730451   \n",
            "...                                 ...       ...   \n",
            "26627                               NaN       NaN   \n",
            "26628                               NaN       NaN   \n",
            "26629                               NaN       NaN   \n",
            "26630                               NaN       NaN   \n",
            "26631                               NaN       NaN   \n",
            "\n",
            "                                             Admin Units  Entry Date  \\\n",
            "0                                                    NaN  2004-10-18   \n",
            "2                                                    NaN  2003-07-01   \n",
            "4                                                    NaN  2003-07-01   \n",
            "5                                                    NaN  2019-08-05   \n",
            "6                                                    NaN  2006-12-01   \n",
            "...                                                  ...         ...   \n",
            "26627  [{\"adm1_code\":939,\"adm1_name\":\"Boyaca\"},{\"adm1...  2024-02-13   \n",
            "26628                                                NaN  2024-03-12   \n",
            "26629  [{\"adm1_code\":2002,\"adm1_name\":\"Administrative...  2024-03-13   \n",
            "26630                                                NaN  2024-04-05   \n",
            "26631                                                NaN  2024-04-05   \n",
            "\n",
            "       Last Update  \n",
            "0       2023-10-17  \n",
            "2       2023-09-25  \n",
            "4       2023-09-25  \n",
            "5       2023-09-25  \n",
            "6       2023-09-25  \n",
            "...            ...  \n",
            "26627   2024-06-14  \n",
            "26628   2024-06-17  \n",
            "26629   2024-04-10  \n",
            "26630   2024-05-14  \n",
            "26631   2024-05-14  \n",
            "\n",
            "[15518 rows x 46 columns]\n"
          ]
        }
      ]
    },
    {
      "cell_type": "markdown",
      "source": [
        "Com relação a eliminação de colunas, alguns fatores serão levados em consideração.\n",
        "\n",
        "Primeiramente, serão excluídos as colunas com informações que apresentam pouca ou nenhuma relevancia para o estudo."
      ],
      "metadata": {
        "id": "HpOFpZPYvY0x"
      }
    },
    {
      "cell_type": "code",
      "source": [
        "# Remover as colunas especificadas\n",
        "remove_colunas = ['DisNo.', 'External IDs', 'Classification Key', 'Event Name', 'River Basin', 'CPI', 'Admin Units', 'Reconstruction Costs (\\'000 US$)', 'Insured Damage (\\'000 US$)', 'Total Damage, Adjusted (\\'000 US$)', 'Entry Date', 'Last Update']\n",
        "df_novo = new_df.drop(columns=remove_colunas)\n",
        "\n",
        "print(df_novo)\n",
        "\n"
      ],
      "metadata": {
        "colab": {
          "base_uri": "https://localhost:8080/"
        },
        "id": "U3mINPOwmsRy",
        "outputId": "9e3fb3ef-af28-43e5-cd4f-a92aea833d22"
      },
      "execution_count": null,
      "outputs": [
        {
          "output_type": "stream",
          "name": "stdout",
          "text": [
            "      Historic Disaster Group Disaster Subgroup      Disaster Type  \\\n",
            "0          Yes        Natural    Meteorological              Storm   \n",
            "2          Yes        Natural      Hydrological              Flood   \n",
            "4          Yes        Natural       Geophysical  Volcanic activity   \n",
            "5          Yes        Natural       Geophysical         Earthquake   \n",
            "6          Yes        Natural    Climatological            Drought   \n",
            "...        ...            ...               ...                ...   \n",
            "26627       No        Natural    Climatological            Drought   \n",
            "26628       No        Natural    Climatological            Drought   \n",
            "26629       No        Natural    Climatological            Drought   \n",
            "26630       No        Natural    Climatological            Drought   \n",
            "26631       No        Natural    Climatological            Drought   \n",
            "\n",
            "       Disaster Subtype  ISO                   Country  \\\n",
            "0      Tropical cyclone  USA  United States of America   \n",
            "2       Flood (General)  JAM                   Jamaica   \n",
            "4              Ash fall  JPN                     Japan   \n",
            "5       Ground movement  TUR                   Türkiye   \n",
            "6               Drought  IND                     India   \n",
            "...                 ...  ...                       ...   \n",
            "26627           Drought  COL                  Colombia   \n",
            "26628           Drought  ZMB                    Zambia   \n",
            "26629           Drought  MHL          Marshall Islands   \n",
            "26630           Drought  MWI                    Malawi   \n",
            "26631           Drought  ZWE                  Zimbabwe   \n",
            "\n",
            "                             Subregion    Region  \\\n",
            "0                     Northern America  Americas   \n",
            "2      Latin America and the Caribbean  Americas   \n",
            "4                         Eastern Asia      Asia   \n",
            "5                         Western Asia      Asia   \n",
            "6                        Southern Asia      Asia   \n",
            "...                                ...       ...   \n",
            "26627  Latin America and the Caribbean  Americas   \n",
            "26628               Sub-Saharan Africa    Africa   \n",
            "26629                       Micronesia   Oceania   \n",
            "26630               Sub-Saharan Africa    Africa   \n",
            "26631               Sub-Saharan Africa    Africa   \n",
            "\n",
            "                                                Location  ... End Month  \\\n",
            "0                                      Galveston (Texas)  ...       9.0   \n",
            "2                                            Saint James  ...       1.0   \n",
            "4                                                    NaN  ...       7.0   \n",
            "5                           KARS,KARAKURT,KAGIZMAN,DIGOR  ...       7.0   \n",
            "6                                                 Bengal  ...       NaN   \n",
            "...                                                  ...  ...       ...   \n",
            "26627  Boyaca, Cordoba, Cundinamarca, Huila, Santande...  ...       6.0   \n",
            "26628  Shangombo, Sinazongwe, Chirundu, Siavonga, Chi...  ...       5.0   \n",
            "26629                           Ratak Chain, Ralik Chain  ...       3.0   \n",
            "26630                                                NaN  ...       NaN   \n",
            "26631                                                NaN  ...       NaN   \n",
            "\n",
            "      End Day Total Deaths No. Injured No. Affected  No. Homeless  \\\n",
            "0         8.0       6000.0         NaN          NaN           NaN   \n",
            "2         6.0        300.0         NaN          NaN           NaN   \n",
            "4         7.0         30.0         NaN          NaN           NaN   \n",
            "5        12.0        140.0         NaN          NaN           NaN   \n",
            "6         NaN    1250000.0         NaN          NaN           NaN   \n",
            "...       ...          ...         ...          ...           ...   \n",
            "26627     NaN          NaN         NaN    1143043.0           NaN   \n",
            "26628     NaN          NaN         NaN    6600000.0           NaN   \n",
            "26629     NaN          NaN         NaN      13924.0           NaN   \n",
            "26630     NaN          NaN         NaN          NaN           NaN   \n",
            "26631     NaN          NaN         NaN    7600000.0           NaN   \n",
            "\n",
            "       Total Affected Reconstruction Costs, Adjusted ('000 US$)  \\\n",
            "0                 NaN                                       NaN   \n",
            "2                 NaN                                       NaN   \n",
            "4                 NaN                                       NaN   \n",
            "5                 NaN                                       NaN   \n",
            "6                 NaN                                       NaN   \n",
            "...               ...                                       ...   \n",
            "26627       1143043.0                                       NaN   \n",
            "26628       6600000.0                                       NaN   \n",
            "26629         13924.0                                       NaN   \n",
            "26630             NaN                                       NaN   \n",
            "26631       7600000.0                                       NaN   \n",
            "\n",
            "       Insured Damage, Adjusted ('000 US$)  Total Damage ('000 US$)  \n",
            "0                                      NaN                  30000.0  \n",
            "2                                      NaN                      NaN  \n",
            "4                                      NaN                      NaN  \n",
            "5                                      NaN                      NaN  \n",
            "6                                      NaN                      NaN  \n",
            "...                                    ...                      ...  \n",
            "26627                                  NaN                      NaN  \n",
            "26628                                  NaN                      NaN  \n",
            "26629                                  NaN                      NaN  \n",
            "26630                                  NaN                      NaN  \n",
            "26631                                  NaN                      NaN  \n",
            "\n",
            "[15518 rows x 34 columns]\n"
          ]
        }
      ]
    },
    {
      "cell_type": "code",
      "source": [
        "# Quantidade de variáveis nulas no dataset novo com 15518 linhas\n",
        "df_novo.isna().sum()"
      ],
      "metadata": {
        "colab": {
          "base_uri": "https://localhost:8080/",
          "height": 1000
        },
        "id": "SmU7PsdF75Ad",
        "outputId": "253bba0b-90f3-45db-cc1e-90016f058f33"
      },
      "execution_count": null,
      "outputs": [
        {
          "output_type": "execute_result",
          "data": {
            "text/plain": [
              "Historic                                         0\n",
              "Disaster Group                                   0\n",
              "Disaster Subgroup                                0\n",
              "Disaster Type                                    0\n",
              "Disaster Subtype                                 0\n",
              "ISO                                              0\n",
              "Country                                          0\n",
              "Subregion                                        0\n",
              "Region                                           0\n",
              "Location                                      1538\n",
              "Origin                                       11275\n",
              "Associated Types                             11682\n",
              "OFDA/BHA Response                                0\n",
              "Appeal                                           0\n",
              "Declaration                                      0\n",
              "AID Contribution ('000 US$)                  14750\n",
              "Magnitude                                    10377\n",
              "Magnitude Scale                               1165\n",
              "Latitude                                     12724\n",
              "Longitude                                    12724\n",
              "Start Year                                       0\n",
              "Start Month                                    304\n",
              "Start Day                                     2759\n",
              "End Year                                         0\n",
              "End Month                                      627\n",
              "End Day                                       2776\n",
              "Total Deaths                                  4599\n",
              "No. Injured                                  11368\n",
              "No. Affected                                  6681\n",
              "No. Homeless                                 13026\n",
              "Total Affected                                4317\n",
              "Reconstruction Costs, Adjusted ('000 US$)    15478\n",
              "Insured Damage, Adjusted ('000 US$)          14398\n",
              "Total Damage ('000 US$)                      10046\n",
              "dtype: int64"
            ],
            "text/html": [
              "<div>\n",
              "<style scoped>\n",
              "    .dataframe tbody tr th:only-of-type {\n",
              "        vertical-align: middle;\n",
              "    }\n",
              "\n",
              "    .dataframe tbody tr th {\n",
              "        vertical-align: top;\n",
              "    }\n",
              "\n",
              "    .dataframe thead th {\n",
              "        text-align: right;\n",
              "    }\n",
              "</style>\n",
              "<table border=\"1\" class=\"dataframe\">\n",
              "  <thead>\n",
              "    <tr style=\"text-align: right;\">\n",
              "      <th></th>\n",
              "      <th>0</th>\n",
              "    </tr>\n",
              "  </thead>\n",
              "  <tbody>\n",
              "    <tr>\n",
              "      <th>Historic</th>\n",
              "      <td>0</td>\n",
              "    </tr>\n",
              "    <tr>\n",
              "      <th>Disaster Group</th>\n",
              "      <td>0</td>\n",
              "    </tr>\n",
              "    <tr>\n",
              "      <th>Disaster Subgroup</th>\n",
              "      <td>0</td>\n",
              "    </tr>\n",
              "    <tr>\n",
              "      <th>Disaster Type</th>\n",
              "      <td>0</td>\n",
              "    </tr>\n",
              "    <tr>\n",
              "      <th>Disaster Subtype</th>\n",
              "      <td>0</td>\n",
              "    </tr>\n",
              "    <tr>\n",
              "      <th>ISO</th>\n",
              "      <td>0</td>\n",
              "    </tr>\n",
              "    <tr>\n",
              "      <th>Country</th>\n",
              "      <td>0</td>\n",
              "    </tr>\n",
              "    <tr>\n",
              "      <th>Subregion</th>\n",
              "      <td>0</td>\n",
              "    </tr>\n",
              "    <tr>\n",
              "      <th>Region</th>\n",
              "      <td>0</td>\n",
              "    </tr>\n",
              "    <tr>\n",
              "      <th>Location</th>\n",
              "      <td>1538</td>\n",
              "    </tr>\n",
              "    <tr>\n",
              "      <th>Origin</th>\n",
              "      <td>11275</td>\n",
              "    </tr>\n",
              "    <tr>\n",
              "      <th>Associated Types</th>\n",
              "      <td>11682</td>\n",
              "    </tr>\n",
              "    <tr>\n",
              "      <th>OFDA/BHA Response</th>\n",
              "      <td>0</td>\n",
              "    </tr>\n",
              "    <tr>\n",
              "      <th>Appeal</th>\n",
              "      <td>0</td>\n",
              "    </tr>\n",
              "    <tr>\n",
              "      <th>Declaration</th>\n",
              "      <td>0</td>\n",
              "    </tr>\n",
              "    <tr>\n",
              "      <th>AID Contribution ('000 US$)</th>\n",
              "      <td>14750</td>\n",
              "    </tr>\n",
              "    <tr>\n",
              "      <th>Magnitude</th>\n",
              "      <td>10377</td>\n",
              "    </tr>\n",
              "    <tr>\n",
              "      <th>Magnitude Scale</th>\n",
              "      <td>1165</td>\n",
              "    </tr>\n",
              "    <tr>\n",
              "      <th>Latitude</th>\n",
              "      <td>12724</td>\n",
              "    </tr>\n",
              "    <tr>\n",
              "      <th>Longitude</th>\n",
              "      <td>12724</td>\n",
              "    </tr>\n",
              "    <tr>\n",
              "      <th>Start Year</th>\n",
              "      <td>0</td>\n",
              "    </tr>\n",
              "    <tr>\n",
              "      <th>Start Month</th>\n",
              "      <td>304</td>\n",
              "    </tr>\n",
              "    <tr>\n",
              "      <th>Start Day</th>\n",
              "      <td>2759</td>\n",
              "    </tr>\n",
              "    <tr>\n",
              "      <th>End Year</th>\n",
              "      <td>0</td>\n",
              "    </tr>\n",
              "    <tr>\n",
              "      <th>End Month</th>\n",
              "      <td>627</td>\n",
              "    </tr>\n",
              "    <tr>\n",
              "      <th>End Day</th>\n",
              "      <td>2776</td>\n",
              "    </tr>\n",
              "    <tr>\n",
              "      <th>Total Deaths</th>\n",
              "      <td>4599</td>\n",
              "    </tr>\n",
              "    <tr>\n",
              "      <th>No. Injured</th>\n",
              "      <td>11368</td>\n",
              "    </tr>\n",
              "    <tr>\n",
              "      <th>No. Affected</th>\n",
              "      <td>6681</td>\n",
              "    </tr>\n",
              "    <tr>\n",
              "      <th>No. Homeless</th>\n",
              "      <td>13026</td>\n",
              "    </tr>\n",
              "    <tr>\n",
              "      <th>Total Affected</th>\n",
              "      <td>4317</td>\n",
              "    </tr>\n",
              "    <tr>\n",
              "      <th>Reconstruction Costs, Adjusted ('000 US$)</th>\n",
              "      <td>15478</td>\n",
              "    </tr>\n",
              "    <tr>\n",
              "      <th>Insured Damage, Adjusted ('000 US$)</th>\n",
              "      <td>14398</td>\n",
              "    </tr>\n",
              "    <tr>\n",
              "      <th>Total Damage ('000 US$)</th>\n",
              "      <td>10046</td>\n",
              "    </tr>\n",
              "  </tbody>\n",
              "</table>\n",
              "</div><br><label><b>dtype:</b> int64</label>"
            ]
          },
          "metadata": {},
          "execution_count": 11
        }
      ]
    },
    {
      "cell_type": "markdown",
      "source": [
        "Para o segundo critério de exclusão, seráo excluídas colunas com no mínimo 60% de dados nulos/faltantes (a partir de 9311 dados faltantes).\n",
        "O projeto também não irá lidar com séries temporais, logo as colunas de datas serão excluídas.\n",
        "\n",
        "Total Damage será mantida por que é uma coluna de interese para o estudo."
      ],
      "metadata": {
        "id": "uEApaLo-xNWC"
      }
    },
    {
      "cell_type": "code",
      "source": [
        "# Remover as colunas especificadas\n",
        "remove_colunas = ['Origin', 'Associated Types', 'AID Contribution (\\'000 US$)', 'Magnitude', 'Latitude', 'Longitude', 'No. Injured', 'No. Homeless', 'Reconstruction Costs, Adjusted (\\'000 US$)', 'Insured Damage, Adjusted (\\'000 US$)', 'ISO', 'Start Year', 'Start Month', 'Start Day', 'End Year', 'End Month', 'End Day']\n",
        "df_cleaned = df_novo.drop(columns=remove_colunas)\n",
        "\n",
        "print(df_cleaned)\n"
      ],
      "metadata": {
        "colab": {
          "base_uri": "https://localhost:8080/"
        },
        "id": "xb_bDYfVE838",
        "outputId": "f636ea5a-9c17-4ad2-9d35-1e1a0ffcc060"
      },
      "execution_count": null,
      "outputs": [
        {
          "output_type": "stream",
          "name": "stdout",
          "text": [
            "      Historic Disaster Group Disaster Subgroup      Disaster Type  \\\n",
            "0          Yes        Natural    Meteorological              Storm   \n",
            "2          Yes        Natural      Hydrological              Flood   \n",
            "4          Yes        Natural       Geophysical  Volcanic activity   \n",
            "5          Yes        Natural       Geophysical         Earthquake   \n",
            "6          Yes        Natural    Climatological            Drought   \n",
            "...        ...            ...               ...                ...   \n",
            "26627       No        Natural    Climatological            Drought   \n",
            "26628       No        Natural    Climatological            Drought   \n",
            "26629       No        Natural    Climatological            Drought   \n",
            "26630       No        Natural    Climatological            Drought   \n",
            "26631       No        Natural    Climatological            Drought   \n",
            "\n",
            "       Disaster Subtype                   Country  \\\n",
            "0      Tropical cyclone  United States of America   \n",
            "2       Flood (General)                   Jamaica   \n",
            "4              Ash fall                     Japan   \n",
            "5       Ground movement                   Türkiye   \n",
            "6               Drought                     India   \n",
            "...                 ...                       ...   \n",
            "26627           Drought                  Colombia   \n",
            "26628           Drought                    Zambia   \n",
            "26629           Drought          Marshall Islands   \n",
            "26630           Drought                    Malawi   \n",
            "26631           Drought                  Zimbabwe   \n",
            "\n",
            "                             Subregion    Region  \\\n",
            "0                     Northern America  Americas   \n",
            "2      Latin America and the Caribbean  Americas   \n",
            "4                         Eastern Asia      Asia   \n",
            "5                         Western Asia      Asia   \n",
            "6                        Southern Asia      Asia   \n",
            "...                                ...       ...   \n",
            "26627  Latin America and the Caribbean  Americas   \n",
            "26628               Sub-Saharan Africa    Africa   \n",
            "26629                       Micronesia   Oceania   \n",
            "26630               Sub-Saharan Africa    Africa   \n",
            "26631               Sub-Saharan Africa    Africa   \n",
            "\n",
            "                                                Location OFDA/BHA Response  \\\n",
            "0                                      Galveston (Texas)                No   \n",
            "2                                            Saint James                No   \n",
            "4                                                    NaN                No   \n",
            "5                           KARS,KARAKURT,KAGIZMAN,DIGOR                No   \n",
            "6                                                 Bengal                No   \n",
            "...                                                  ...               ...   \n",
            "26627  Boyaca, Cordoba, Cundinamarca, Huila, Santande...                No   \n",
            "26628  Shangombo, Sinazongwe, Chirundu, Siavonga, Chi...                No   \n",
            "26629                           Ratak Chain, Ralik Chain                No   \n",
            "26630                                                NaN                No   \n",
            "26631                                                NaN                No   \n",
            "\n",
            "      Appeal Declaration   Magnitude Scale  Total Deaths  No. Affected  \\\n",
            "0         No          No               Kph        6000.0           NaN   \n",
            "2         No          No               Km2         300.0           NaN   \n",
            "4         No          No               NaN          30.0           NaN   \n",
            "5         No          No  Moment Magnitude         140.0           NaN   \n",
            "6         No          No               Km2     1250000.0           NaN   \n",
            "...      ...         ...               ...           ...           ...   \n",
            "26627     No         Yes               Km2           NaN     1143043.0   \n",
            "26628    Yes         Yes               Km2           NaN     6600000.0   \n",
            "26629     No          No               Km2           NaN       13924.0   \n",
            "26630     No         Yes               Km2           NaN           NaN   \n",
            "26631     No         Yes               Km2           NaN     7600000.0   \n",
            "\n",
            "       Total Affected  Total Damage ('000 US$)  \n",
            "0                 NaN                  30000.0  \n",
            "2                 NaN                      NaN  \n",
            "4                 NaN                      NaN  \n",
            "5                 NaN                      NaN  \n",
            "6                 NaN                      NaN  \n",
            "...               ...                      ...  \n",
            "26627       1143043.0                      NaN  \n",
            "26628       6600000.0                      NaN  \n",
            "26629         13924.0                      NaN  \n",
            "26630             NaN                      NaN  \n",
            "26631       7600000.0                      NaN  \n",
            "\n",
            "[15518 rows x 17 columns]\n"
          ]
        }
      ]
    },
    {
      "cell_type": "code",
      "source": [
        "df_cleaned.isna().sum()"
      ],
      "metadata": {
        "colab": {
          "base_uri": "https://localhost:8080/",
          "height": 617
        },
        "id": "ZD54jkdEGxZb",
        "outputId": "9e122088-6a59-4107-80c6-dfef4ffb41cc"
      },
      "execution_count": null,
      "outputs": [
        {
          "output_type": "execute_result",
          "data": {
            "text/plain": [
              "Historic                       0\n",
              "Disaster Group                 0\n",
              "Disaster Subgroup              0\n",
              "Disaster Type                  0\n",
              "Disaster Subtype               0\n",
              "Country                        0\n",
              "Subregion                      0\n",
              "Region                         0\n",
              "Location                    1538\n",
              "OFDA/BHA Response              0\n",
              "Appeal                         0\n",
              "Declaration                    0\n",
              "Magnitude Scale             1165\n",
              "Total Deaths                4599\n",
              "No. Affected                6681\n",
              "Total Affected              4317\n",
              "Total Damage ('000 US$)    10046\n",
              "dtype: int64"
            ],
            "text/html": [
              "<div>\n",
              "<style scoped>\n",
              "    .dataframe tbody tr th:only-of-type {\n",
              "        vertical-align: middle;\n",
              "    }\n",
              "\n",
              "    .dataframe tbody tr th {\n",
              "        vertical-align: top;\n",
              "    }\n",
              "\n",
              "    .dataframe thead th {\n",
              "        text-align: right;\n",
              "    }\n",
              "</style>\n",
              "<table border=\"1\" class=\"dataframe\">\n",
              "  <thead>\n",
              "    <tr style=\"text-align: right;\">\n",
              "      <th></th>\n",
              "      <th>0</th>\n",
              "    </tr>\n",
              "  </thead>\n",
              "  <tbody>\n",
              "    <tr>\n",
              "      <th>Historic</th>\n",
              "      <td>0</td>\n",
              "    </tr>\n",
              "    <tr>\n",
              "      <th>Disaster Group</th>\n",
              "      <td>0</td>\n",
              "    </tr>\n",
              "    <tr>\n",
              "      <th>Disaster Subgroup</th>\n",
              "      <td>0</td>\n",
              "    </tr>\n",
              "    <tr>\n",
              "      <th>Disaster Type</th>\n",
              "      <td>0</td>\n",
              "    </tr>\n",
              "    <tr>\n",
              "      <th>Disaster Subtype</th>\n",
              "      <td>0</td>\n",
              "    </tr>\n",
              "    <tr>\n",
              "      <th>Country</th>\n",
              "      <td>0</td>\n",
              "    </tr>\n",
              "    <tr>\n",
              "      <th>Subregion</th>\n",
              "      <td>0</td>\n",
              "    </tr>\n",
              "    <tr>\n",
              "      <th>Region</th>\n",
              "      <td>0</td>\n",
              "    </tr>\n",
              "    <tr>\n",
              "      <th>Location</th>\n",
              "      <td>1538</td>\n",
              "    </tr>\n",
              "    <tr>\n",
              "      <th>OFDA/BHA Response</th>\n",
              "      <td>0</td>\n",
              "    </tr>\n",
              "    <tr>\n",
              "      <th>Appeal</th>\n",
              "      <td>0</td>\n",
              "    </tr>\n",
              "    <tr>\n",
              "      <th>Declaration</th>\n",
              "      <td>0</td>\n",
              "    </tr>\n",
              "    <tr>\n",
              "      <th>Magnitude Scale</th>\n",
              "      <td>1165</td>\n",
              "    </tr>\n",
              "    <tr>\n",
              "      <th>Total Deaths</th>\n",
              "      <td>4599</td>\n",
              "    </tr>\n",
              "    <tr>\n",
              "      <th>No. Affected</th>\n",
              "      <td>6681</td>\n",
              "    </tr>\n",
              "    <tr>\n",
              "      <th>Total Affected</th>\n",
              "      <td>4317</td>\n",
              "    </tr>\n",
              "    <tr>\n",
              "      <th>Total Damage ('000 US$)</th>\n",
              "      <td>10046</td>\n",
              "    </tr>\n",
              "  </tbody>\n",
              "</table>\n",
              "</div><br><label><b>dtype:</b> int64</label>"
            ]
          },
          "metadata": {},
          "execution_count": 13
        }
      ]
    },
    {
      "cell_type": "markdown",
      "source": [
        "Como as únicas colunas que estão com menos de 10% de dados faltantes são Location e Magnitude Scale, essas linhas serão eliminadas. As linhas com valores nulos de Total Deaths também serão eliminadas, pois é a variável alvo."
      ],
      "metadata": {
        "id": "JellBbXHxr7d"
      }
    },
    {
      "cell_type": "code",
      "source": [
        "new_df_cleaned = df_cleaned.dropna(subset=['Location', 'Magnitude Scale', 'Total Deaths',])\n",
        "print(new_df_cleaned)"
      ],
      "metadata": {
        "colab": {
          "base_uri": "https://localhost:8080/"
        },
        "id": "PCphyLhPIpEz",
        "outputId": "4d53ab4a-8ca6-4cec-e865-95fa787ec992"
      },
      "execution_count": null,
      "outputs": [
        {
          "output_type": "stream",
          "name": "stdout",
          "text": [
            "      Historic Disaster Group Disaster Subgroup Disaster Type  \\\n",
            "0          Yes        Natural    Meteorological         Storm   \n",
            "2          Yes        Natural      Hydrological         Flood   \n",
            "5          Yes        Natural       Geophysical    Earthquake   \n",
            "6          Yes        Natural    Climatological       Drought   \n",
            "7          Yes        Natural    Climatological       Drought   \n",
            "...        ...            ...               ...           ...   \n",
            "26611       No        Natural    Meteorological         Storm   \n",
            "26612       No        Natural    Meteorological         Storm   \n",
            "26613       No        Natural    Meteorological         Storm   \n",
            "26614       No        Natural    Climatological      Wildfire   \n",
            "26618       No        Natural    Meteorological         Storm   \n",
            "\n",
            "       Disaster Subtype                   Country  \\\n",
            "0      Tropical cyclone  United States of America   \n",
            "2       Flood (General)                   Jamaica   \n",
            "5       Ground movement                   Türkiye   \n",
            "6               Drought                     India   \n",
            "7               Drought                Cabo Verde   \n",
            "...                 ...                       ...   \n",
            "26611  Tropical cyclone                 Guatemala   \n",
            "26612  Tropical cyclone                  Honduras   \n",
            "26613  Tropical cyclone                    Mexico   \n",
            "26614       Forest fire  United States of America   \n",
            "26618           Tornado                     China   \n",
            "\n",
            "                             Subregion    Region  \\\n",
            "0                     Northern America  Americas   \n",
            "2      Latin America and the Caribbean  Americas   \n",
            "5                         Western Asia      Asia   \n",
            "6                        Southern Asia      Asia   \n",
            "7                   Sub-Saharan Africa    Africa   \n",
            "...                                ...       ...   \n",
            "26611  Latin America and the Caribbean  Americas   \n",
            "26612  Latin America and the Caribbean  Americas   \n",
            "26613  Latin America and the Caribbean  Americas   \n",
            "26614                 Northern America  Americas   \n",
            "26618                     Eastern Asia      Asia   \n",
            "\n",
            "                                                Location OFDA/BHA Response  \\\n",
            "0                                      Galveston (Texas)                No   \n",
            "2                                            Saint James                No   \n",
            "5                           KARS,KARAKURT,KAGIZMAN,DIGOR                No   \n",
            "6                                                 Bengal                No   \n",
            "7                                            Countrywide                No   \n",
            "...                                                  ...               ...   \n",
            "26611              Jalpatagua and Chacaya municipalities                No   \n",
            "26612                                   Valle department                No   \n",
            "26613       Nuevo Leon, Veracruz, Tamaulipas, Coahuila,                 No   \n",
            "26614  Otero and Lincoln Counties (New Mexico); Calif...                No   \n",
            "26618   Dongming, Juancheng counties (Shandong province)                No   \n",
            "\n",
            "      Appeal Declaration   Magnitude Scale  Total Deaths  No. Affected  \\\n",
            "0         No          No               Kph        6000.0           NaN   \n",
            "2         No          No               Km2         300.0           NaN   \n",
            "5         No          No  Moment Magnitude         140.0           NaN   \n",
            "6         No          No               Km2     1250000.0           NaN   \n",
            "7         No          No               Km2       11000.0           NaN   \n",
            "...      ...         ...               ...           ...           ...   \n",
            "26611     No          No               Kph          10.0           NaN   \n",
            "26612     No          No               Kph           1.0           NaN   \n",
            "26613     No          No               Kph           4.0           NaN   \n",
            "26614     No         Yes               Km2           2.0        1500.0   \n",
            "26618     No          No               Kph           5.0        9000.0   \n",
            "\n",
            "       Total Affected  Total Damage ('000 US$)  \n",
            "0                 NaN                  30000.0  \n",
            "2                 NaN                      NaN  \n",
            "5                 NaN                      NaN  \n",
            "6                 NaN                      NaN  \n",
            "7                 NaN                      NaN  \n",
            "...               ...                      ...  \n",
            "26611             NaN                      NaN  \n",
            "26612          3500.0                      NaN  \n",
            "26613             NaN                      NaN  \n",
            "26614          1502.0                      NaN  \n",
            "26618          9083.0                      NaN  \n",
            "\n",
            "[9108 rows x 17 columns]\n"
          ]
        }
      ]
    },
    {
      "cell_type": "code",
      "source": [
        "new_df_cleaned.isna().sum()"
      ],
      "metadata": {
        "colab": {
          "base_uri": "https://localhost:8080/",
          "height": 617
        },
        "id": "kMY6u4MHMOJv",
        "outputId": "6fc448ab-e7c5-43f1-8675-695f5d358216"
      },
      "execution_count": null,
      "outputs": [
        {
          "output_type": "execute_result",
          "data": {
            "text/plain": [
              "Historic                      0\n",
              "Disaster Group                0\n",
              "Disaster Subgroup             0\n",
              "Disaster Type                 0\n",
              "Disaster Subtype              0\n",
              "Country                       0\n",
              "Subregion                     0\n",
              "Region                        0\n",
              "Location                      0\n",
              "OFDA/BHA Response             0\n",
              "Appeal                        0\n",
              "Declaration                   0\n",
              "Magnitude Scale               0\n",
              "Total Deaths                  0\n",
              "No. Affected               3586\n",
              "Total Affected             1970\n",
              "Total Damage ('000 US$)    5168\n",
              "dtype: int64"
            ],
            "text/html": [
              "<div>\n",
              "<style scoped>\n",
              "    .dataframe tbody tr th:only-of-type {\n",
              "        vertical-align: middle;\n",
              "    }\n",
              "\n",
              "    .dataframe tbody tr th {\n",
              "        vertical-align: top;\n",
              "    }\n",
              "\n",
              "    .dataframe thead th {\n",
              "        text-align: right;\n",
              "    }\n",
              "</style>\n",
              "<table border=\"1\" class=\"dataframe\">\n",
              "  <thead>\n",
              "    <tr style=\"text-align: right;\">\n",
              "      <th></th>\n",
              "      <th>0</th>\n",
              "    </tr>\n",
              "  </thead>\n",
              "  <tbody>\n",
              "    <tr>\n",
              "      <th>Historic</th>\n",
              "      <td>0</td>\n",
              "    </tr>\n",
              "    <tr>\n",
              "      <th>Disaster Group</th>\n",
              "      <td>0</td>\n",
              "    </tr>\n",
              "    <tr>\n",
              "      <th>Disaster Subgroup</th>\n",
              "      <td>0</td>\n",
              "    </tr>\n",
              "    <tr>\n",
              "      <th>Disaster Type</th>\n",
              "      <td>0</td>\n",
              "    </tr>\n",
              "    <tr>\n",
              "      <th>Disaster Subtype</th>\n",
              "      <td>0</td>\n",
              "    </tr>\n",
              "    <tr>\n",
              "      <th>Country</th>\n",
              "      <td>0</td>\n",
              "    </tr>\n",
              "    <tr>\n",
              "      <th>Subregion</th>\n",
              "      <td>0</td>\n",
              "    </tr>\n",
              "    <tr>\n",
              "      <th>Region</th>\n",
              "      <td>0</td>\n",
              "    </tr>\n",
              "    <tr>\n",
              "      <th>Location</th>\n",
              "      <td>0</td>\n",
              "    </tr>\n",
              "    <tr>\n",
              "      <th>OFDA/BHA Response</th>\n",
              "      <td>0</td>\n",
              "    </tr>\n",
              "    <tr>\n",
              "      <th>Appeal</th>\n",
              "      <td>0</td>\n",
              "    </tr>\n",
              "    <tr>\n",
              "      <th>Declaration</th>\n",
              "      <td>0</td>\n",
              "    </tr>\n",
              "    <tr>\n",
              "      <th>Magnitude Scale</th>\n",
              "      <td>0</td>\n",
              "    </tr>\n",
              "    <tr>\n",
              "      <th>Total Deaths</th>\n",
              "      <td>0</td>\n",
              "    </tr>\n",
              "    <tr>\n",
              "      <th>No. Affected</th>\n",
              "      <td>3586</td>\n",
              "    </tr>\n",
              "    <tr>\n",
              "      <th>Total Affected</th>\n",
              "      <td>1970</td>\n",
              "    </tr>\n",
              "    <tr>\n",
              "      <th>Total Damage ('000 US$)</th>\n",
              "      <td>5168</td>\n",
              "    </tr>\n",
              "  </tbody>\n",
              "</table>\n",
              "</div><br><label><b>dtype:</b> int64</label>"
            ]
          },
          "metadata": {},
          "execution_count": 15
        }
      ]
    },
    {
      "cell_type": "code",
      "source": [
        "new_df_cleaned.info()"
      ],
      "metadata": {
        "colab": {
          "base_uri": "https://localhost:8080/"
        },
        "id": "UPK2Q7_l4czc",
        "outputId": "7550972d-f19f-4aa1-9e89-9ff3a0ae2708"
      },
      "execution_count": null,
      "outputs": [
        {
          "output_type": "stream",
          "name": "stdout",
          "text": [
            "<class 'pandas.core.frame.DataFrame'>\n",
            "Index: 9108 entries, 0 to 26618\n",
            "Data columns (total 17 columns):\n",
            " #   Column                   Non-Null Count  Dtype  \n",
            "---  ------                   --------------  -----  \n",
            " 0   Historic                 9108 non-null   object \n",
            " 1   Disaster Group           9108 non-null   object \n",
            " 2   Disaster Subgroup        9108 non-null   object \n",
            " 3   Disaster Type            9108 non-null   object \n",
            " 4   Disaster Subtype         9108 non-null   object \n",
            " 5   Country                  9108 non-null   object \n",
            " 6   Subregion                9108 non-null   object \n",
            " 7   Region                   9108 non-null   object \n",
            " 8   Location                 9108 non-null   object \n",
            " 9   OFDA/BHA Response        9108 non-null   object \n",
            " 10  Appeal                   9108 non-null   object \n",
            " 11  Declaration              9108 non-null   object \n",
            " 12  Magnitude Scale          9108 non-null   object \n",
            " 13  Total Deaths             9108 non-null   float64\n",
            " 14  No. Affected             5522 non-null   float64\n",
            " 15  Total Affected           7138 non-null   float64\n",
            " 16  Total Damage ('000 US$)  3940 non-null   float64\n",
            "dtypes: float64(4), object(13)\n",
            "memory usage: 1.3+ MB\n"
          ]
        }
      ]
    },
    {
      "cell_type": "code",
      "source": [
        "# Como os atributos No. Affected, Total Affected e Total Damage possuem certo grau de correlação entre eles, o algoritmo de kNN será utilizado para\n",
        "# preencher os valores faltantes dessas colunas a fim de proporcionar imputações mais precisas.\n",
        "\n",
        "\n",
        "from sklearn.impute import KNNImputer\n",
        "\n",
        "# Colunas para imputar\n",
        "colunas_alvo = ['No. Affected', 'Total Affected', 'Total Damage (\\'000 US$)']\n",
        "\n",
        "# Inicializando o imputador KNN\n",
        "imputador_knn = KNNImputer(n_neighbors=5)\n",
        "\n",
        "# Aplicar o imputador às colunas selecionadas\n",
        "new_df_cleaned[colunas_alvo] = imputador_knn.fit_transform(new_df_cleaned[colunas_alvo])\n",
        "\n",
        "# Converter os valores para inteiro após arrendondar, já que os dados originais eram floats mas não possuíam valores contínuos\n",
        "new_df_cleaned[colunas_alvo] = new_df_cleaned[colunas_alvo].round().astype(int)\n",
        "\n",
        "# Verificar o resultado\n",
        "print(new_df_cleaned[colunas_alvo].isnull().sum())\n"
      ],
      "metadata": {
        "colab": {
          "base_uri": "https://localhost:8080/"
        },
        "id": "fzDJfbeaZihi",
        "outputId": "0ef5ea32-a9a8-4019-8698-98f0923a2a30"
      },
      "execution_count": null,
      "outputs": [
        {
          "output_type": "stream",
          "name": "stdout",
          "text": [
            "No. Affected               0\n",
            "Total Affected             0\n",
            "Total Damage ('000 US$)    0\n",
            "dtype: int64\n"
          ]
        },
        {
          "output_type": "stream",
          "name": "stderr",
          "text": [
            "<ipython-input-17-227a4f41901a>:14: SettingWithCopyWarning: \n",
            "A value is trying to be set on a copy of a slice from a DataFrame.\n",
            "Try using .loc[row_indexer,col_indexer] = value instead\n",
            "\n",
            "See the caveats in the documentation: https://pandas.pydata.org/pandas-docs/stable/user_guide/indexing.html#returning-a-view-versus-a-copy\n",
            "  new_df_cleaned[colunas_alvo] = imputador_knn.fit_transform(new_df_cleaned[colunas_alvo])\n",
            "<ipython-input-17-227a4f41901a>:17: SettingWithCopyWarning: \n",
            "A value is trying to be set on a copy of a slice from a DataFrame.\n",
            "Try using .loc[row_indexer,col_indexer] = value instead\n",
            "\n",
            "See the caveats in the documentation: https://pandas.pydata.org/pandas-docs/stable/user_guide/indexing.html#returning-a-view-versus-a-copy\n",
            "  new_df_cleaned[colunas_alvo] = new_df_cleaned[colunas_alvo].round().astype(int)\n"
          ]
        }
      ]
    },
    {
      "cell_type": "code",
      "source": [
        "# Agora todos os valores estão preenchidos no dataset.\n",
        "new_df_cleaned.isna().sum()"
      ],
      "metadata": {
        "colab": {
          "base_uri": "https://localhost:8080/",
          "height": 617
        },
        "id": "DMEwDU7tcJn-",
        "outputId": "1ec02236-d39d-4b0c-bdc9-64cfb5008f3a"
      },
      "execution_count": null,
      "outputs": [
        {
          "output_type": "execute_result",
          "data": {
            "text/plain": [
              "Historic                   0\n",
              "Disaster Group             0\n",
              "Disaster Subgroup          0\n",
              "Disaster Type              0\n",
              "Disaster Subtype           0\n",
              "Country                    0\n",
              "Subregion                  0\n",
              "Region                     0\n",
              "Location                   0\n",
              "OFDA/BHA Response          0\n",
              "Appeal                     0\n",
              "Declaration                0\n",
              "Magnitude Scale            0\n",
              "Total Deaths               0\n",
              "No. Affected               0\n",
              "Total Affected             0\n",
              "Total Damage ('000 US$)    0\n",
              "dtype: int64"
            ],
            "text/html": [
              "<div>\n",
              "<style scoped>\n",
              "    .dataframe tbody tr th:only-of-type {\n",
              "        vertical-align: middle;\n",
              "    }\n",
              "\n",
              "    .dataframe tbody tr th {\n",
              "        vertical-align: top;\n",
              "    }\n",
              "\n",
              "    .dataframe thead th {\n",
              "        text-align: right;\n",
              "    }\n",
              "</style>\n",
              "<table border=\"1\" class=\"dataframe\">\n",
              "  <thead>\n",
              "    <tr style=\"text-align: right;\">\n",
              "      <th></th>\n",
              "      <th>0</th>\n",
              "    </tr>\n",
              "  </thead>\n",
              "  <tbody>\n",
              "    <tr>\n",
              "      <th>Historic</th>\n",
              "      <td>0</td>\n",
              "    </tr>\n",
              "    <tr>\n",
              "      <th>Disaster Group</th>\n",
              "      <td>0</td>\n",
              "    </tr>\n",
              "    <tr>\n",
              "      <th>Disaster Subgroup</th>\n",
              "      <td>0</td>\n",
              "    </tr>\n",
              "    <tr>\n",
              "      <th>Disaster Type</th>\n",
              "      <td>0</td>\n",
              "    </tr>\n",
              "    <tr>\n",
              "      <th>Disaster Subtype</th>\n",
              "      <td>0</td>\n",
              "    </tr>\n",
              "    <tr>\n",
              "      <th>Country</th>\n",
              "      <td>0</td>\n",
              "    </tr>\n",
              "    <tr>\n",
              "      <th>Subregion</th>\n",
              "      <td>0</td>\n",
              "    </tr>\n",
              "    <tr>\n",
              "      <th>Region</th>\n",
              "      <td>0</td>\n",
              "    </tr>\n",
              "    <tr>\n",
              "      <th>Location</th>\n",
              "      <td>0</td>\n",
              "    </tr>\n",
              "    <tr>\n",
              "      <th>OFDA/BHA Response</th>\n",
              "      <td>0</td>\n",
              "    </tr>\n",
              "    <tr>\n",
              "      <th>Appeal</th>\n",
              "      <td>0</td>\n",
              "    </tr>\n",
              "    <tr>\n",
              "      <th>Declaration</th>\n",
              "      <td>0</td>\n",
              "    </tr>\n",
              "    <tr>\n",
              "      <th>Magnitude Scale</th>\n",
              "      <td>0</td>\n",
              "    </tr>\n",
              "    <tr>\n",
              "      <th>Total Deaths</th>\n",
              "      <td>0</td>\n",
              "    </tr>\n",
              "    <tr>\n",
              "      <th>No. Affected</th>\n",
              "      <td>0</td>\n",
              "    </tr>\n",
              "    <tr>\n",
              "      <th>Total Affected</th>\n",
              "      <td>0</td>\n",
              "    </tr>\n",
              "    <tr>\n",
              "      <th>Total Damage ('000 US$)</th>\n",
              "      <td>0</td>\n",
              "    </tr>\n",
              "  </tbody>\n",
              "</table>\n",
              "</div><br><label><b>dtype:</b> int64</label>"
            ]
          },
          "metadata": {},
          "execution_count": 18
        }
      ]
    },
    {
      "cell_type": "code",
      "source": [
        "new_df_cleaned.info()"
      ],
      "metadata": {
        "colab": {
          "base_uri": "https://localhost:8080/"
        },
        "id": "levlZzgw7-RQ",
        "outputId": "c7208d98-7cdf-49dc-c8a5-92527601d74f"
      },
      "execution_count": null,
      "outputs": [
        {
          "output_type": "stream",
          "name": "stdout",
          "text": [
            "<class 'pandas.core.frame.DataFrame'>\n",
            "Index: 9108 entries, 0 to 26618\n",
            "Data columns (total 17 columns):\n",
            " #   Column                   Non-Null Count  Dtype  \n",
            "---  ------                   --------------  -----  \n",
            " 0   Historic                 9108 non-null   object \n",
            " 1   Disaster Group           9108 non-null   object \n",
            " 2   Disaster Subgroup        9108 non-null   object \n",
            " 3   Disaster Type            9108 non-null   object \n",
            " 4   Disaster Subtype         9108 non-null   object \n",
            " 5   Country                  9108 non-null   object \n",
            " 6   Subregion                9108 non-null   object \n",
            " 7   Region                   9108 non-null   object \n",
            " 8   Location                 9108 non-null   object \n",
            " 9   OFDA/BHA Response        9108 non-null   object \n",
            " 10  Appeal                   9108 non-null   object \n",
            " 11  Declaration              9108 non-null   object \n",
            " 12  Magnitude Scale          9108 non-null   object \n",
            " 13  Total Deaths             9108 non-null   float64\n",
            " 14  No. Affected             9108 non-null   int64  \n",
            " 15  Total Affected           9108 non-null   int64  \n",
            " 16  Total Damage ('000 US$)  9108 non-null   int64  \n",
            "dtypes: float64(1), int64(3), object(13)\n",
            "memory usage: 1.3+ MB\n"
          ]
        }
      ]
    },
    {
      "cell_type": "markdown",
      "source": [
        "# Formatação dos Dados para o Algoritmo\n",
        "Visto que não há mais linhas com valores nulos, os dados serão agora formatados para serem posteriormente separados em treino e teste para o algoritmo Random Forest. Os dados do tipo \"Objeto\" serão tratados com o OneHotEncoder."
      ],
      "metadata": {
        "id": "01J9GIIMc47Y"
      }
    },
    {
      "cell_type": "code",
      "source": [
        "# A coluna Total Deaths que está descrita como float não possui valores contínuos, portanto será convertida para inteiro.\n",
        "\n",
        "converter_colunas = ['Total Deaths']\n",
        "new_df_cleaned[converter_colunas] = new_df_cleaned[converter_colunas].astype(int)\n",
        "new_df_cleaned.info()"
      ],
      "metadata": {
        "colab": {
          "base_uri": "https://localhost:8080/"
        },
        "id": "0_H7hrSw3_DS",
        "outputId": "39050165-d1b0-4cbe-a277-7535e11645fe"
      },
      "execution_count": null,
      "outputs": [
        {
          "output_type": "stream",
          "name": "stdout",
          "text": [
            "<class 'pandas.core.frame.DataFrame'>\n",
            "Index: 9108 entries, 0 to 26618\n",
            "Data columns (total 17 columns):\n",
            " #   Column                   Non-Null Count  Dtype \n",
            "---  ------                   --------------  ----- \n",
            " 0   Historic                 9108 non-null   object\n",
            " 1   Disaster Group           9108 non-null   object\n",
            " 2   Disaster Subgroup        9108 non-null   object\n",
            " 3   Disaster Type            9108 non-null   object\n",
            " 4   Disaster Subtype         9108 non-null   object\n",
            " 5   Country                  9108 non-null   object\n",
            " 6   Subregion                9108 non-null   object\n",
            " 7   Region                   9108 non-null   object\n",
            " 8   Location                 9108 non-null   object\n",
            " 9   OFDA/BHA Response        9108 non-null   object\n",
            " 10  Appeal                   9108 non-null   object\n",
            " 11  Declaration              9108 non-null   object\n",
            " 12  Magnitude Scale          9108 non-null   object\n",
            " 13  Total Deaths             9108 non-null   int64 \n",
            " 14  No. Affected             9108 non-null   int64 \n",
            " 15  Total Affected           9108 non-null   int64 \n",
            " 16  Total Damage ('000 US$)  9108 non-null   int64 \n",
            "dtypes: int64(4), object(13)\n",
            "memory usage: 1.3+ MB\n"
          ]
        },
        {
          "output_type": "stream",
          "name": "stderr",
          "text": [
            "<ipython-input-20-082b6d0b3dd5>:4: SettingWithCopyWarning: \n",
            "A value is trying to be set on a copy of a slice from a DataFrame.\n",
            "Try using .loc[row_indexer,col_indexer] = value instead\n",
            "\n",
            "See the caveats in the documentation: https://pandas.pydata.org/pandas-docs/stable/user_guide/indexing.html#returning-a-view-versus-a-copy\n",
            "  new_df_cleaned[converter_colunas] = new_df_cleaned[converter_colunas].astype(int)\n"
          ]
        }
      ]
    },
    {
      "cell_type": "code",
      "source": [
        "# Selecionar colunas numéricas inteiras para normalização\n",
        "\n",
        "from sklearn.preprocessing import MinMaxScaler\n",
        "\n",
        "# Adicione todas as colunas inteiras aqui, por exemplo:\n",
        "colunas_inteiro = ['No. Affected', 'Total Affected', 'Total Damage (\\'000 US$)']\n",
        "\n",
        "# Inicialize o MinMaxScaler\n",
        "escalonador = MinMaxScaler()\n",
        "\n",
        "# Aplicar a normalização Min-Max\n",
        "new_df_cleaned[colunas_inteiro] = escalonador.fit_transform(new_df_cleaned[colunas_inteiro])\n",
        "\n",
        "# Verificar o resultado\n",
        "print(new_df_cleaned)\n",
        "#print(new_df_cleaned[colunas_inteiro].describe())"
      ],
      "metadata": {
        "colab": {
          "base_uri": "https://localhost:8080/"
        },
        "id": "TQCbr9LspFFc",
        "outputId": "f69d9a5e-07dd-4283-bbc7-ebc5da144241"
      },
      "execution_count": null,
      "outputs": [
        {
          "output_type": "stream",
          "name": "stdout",
          "text": [
            "      Historic Disaster Group Disaster Subgroup Disaster Type  \\\n",
            "0          Yes        Natural    Meteorological         Storm   \n",
            "2          Yes        Natural      Hydrological         Flood   \n",
            "5          Yes        Natural       Geophysical    Earthquake   \n",
            "6          Yes        Natural    Climatological       Drought   \n",
            "7          Yes        Natural    Climatological       Drought   \n",
            "...        ...            ...               ...           ...   \n",
            "26611       No        Natural    Meteorological         Storm   \n",
            "26612       No        Natural    Meteorological         Storm   \n",
            "26613       No        Natural    Meteorological         Storm   \n",
            "26614       No        Natural    Climatological      Wildfire   \n",
            "26618       No        Natural    Meteorological         Storm   \n",
            "\n",
            "       Disaster Subtype                   Country  \\\n",
            "0      Tropical cyclone  United States of America   \n",
            "2       Flood (General)                   Jamaica   \n",
            "5       Ground movement                   Türkiye   \n",
            "6               Drought                     India   \n",
            "7               Drought                Cabo Verde   \n",
            "...                 ...                       ...   \n",
            "26611  Tropical cyclone                 Guatemala   \n",
            "26612  Tropical cyclone                  Honduras   \n",
            "26613  Tropical cyclone                    Mexico   \n",
            "26614       Forest fire  United States of America   \n",
            "26618           Tornado                     China   \n",
            "\n",
            "                             Subregion    Region  \\\n",
            "0                     Northern America  Americas   \n",
            "2      Latin America and the Caribbean  Americas   \n",
            "5                         Western Asia      Asia   \n",
            "6                        Southern Asia      Asia   \n",
            "7                   Sub-Saharan Africa    Africa   \n",
            "...                                ...       ...   \n",
            "26611  Latin America and the Caribbean  Americas   \n",
            "26612  Latin America and the Caribbean  Americas   \n",
            "26613  Latin America and the Caribbean  Americas   \n",
            "26614                 Northern America  Americas   \n",
            "26618                     Eastern Asia      Asia   \n",
            "\n",
            "                                                Location OFDA/BHA Response  \\\n",
            "0                                      Galveston (Texas)                No   \n",
            "2                                            Saint James                No   \n",
            "5                           KARS,KARAKURT,KAGIZMAN,DIGOR                No   \n",
            "6                                                 Bengal                No   \n",
            "7                                            Countrywide                No   \n",
            "...                                                  ...               ...   \n",
            "26611              Jalpatagua and Chacaya municipalities                No   \n",
            "26612                                   Valle department                No   \n",
            "26613       Nuevo Leon, Veracruz, Tamaulipas, Coahuila,                 No   \n",
            "26614  Otero and Lincoln Counties (New Mexico); Calif...                No   \n",
            "26618   Dongming, Juancheng counties (Shandong province)                No   \n",
            "\n",
            "      Appeal Declaration   Magnitude Scale  Total Deaths  No. Affected  \\\n",
            "0         No          No               Kph          6000      0.001281   \n",
            "2         No          No               Km2           300      0.003464   \n",
            "5         No          No  Moment Magnitude           140      0.003464   \n",
            "6         No          No               Km2       1250000      0.003464   \n",
            "7         No          No               Km2         11000      0.003464   \n",
            "...      ...         ...               ...           ...           ...   \n",
            "26611     No          No               Kph            10      0.003464   \n",
            "26612     No          No               Kph             1      0.000012   \n",
            "26613     No          No               Kph             4      0.003464   \n",
            "26614     No         Yes               Km2             2      0.000005   \n",
            "26618     No          No               Kph             5      0.000030   \n",
            "\n",
            "       Total Affected  Total Damage ('000 US$)  \n",
            "0            0.000157                 0.000143  \n",
            "2            0.002760                 0.004768  \n",
            "5            0.002760                 0.004768  \n",
            "6            0.002760                 0.004768  \n",
            "7            0.002760                 0.004768  \n",
            "...               ...                      ...  \n",
            "26611        0.002760                 0.004768  \n",
            "26612        0.000012                 0.002611  \n",
            "26613        0.002760                 0.004768  \n",
            "26614        0.000005                 0.001062  \n",
            "26618        0.000030                 0.013177  \n",
            "\n",
            "[9108 rows x 17 columns]\n"
          ]
        },
        {
          "output_type": "stream",
          "name": "stderr",
          "text": [
            "<ipython-input-21-a4048c8c9494>:12: SettingWithCopyWarning: \n",
            "A value is trying to be set on a copy of a slice from a DataFrame.\n",
            "Try using .loc[row_indexer,col_indexer] = value instead\n",
            "\n",
            "See the caveats in the documentation: https://pandas.pydata.org/pandas-docs/stable/user_guide/indexing.html#returning-a-view-versus-a-copy\n",
            "  new_df_cleaned[colunas_inteiro] = escalonador.fit_transform(new_df_cleaned[colunas_inteiro])\n"
          ]
        }
      ]
    },
    {
      "cell_type": "code",
      "source": [
        "# Há uma alta quantidade de valores únicos para Location, logo essa coluna será removida para não gerar um número alto demais de colunas. Ao contrário de Disaster Group, que só possui 1 valor 'Natural'\n",
        "new_df_cleaned = new_df_cleaned.drop(columns=['Location', 'Disaster Group'])\n"
      ],
      "metadata": {
        "id": "7hQFzlaTU4ks"
      },
      "execution_count": null,
      "outputs": []
    },
    {
      "cell_type": "code",
      "source": [
        "# Convertendo os valores categóricos (tipo \"objeto\") para um vetor numérico One-Hot (representação binária).\n",
        "\n",
        "# Selecionar todas as colunas categóricas (do tipo object)\n",
        "colunas_categoricas = new_df_cleaned.select_dtypes(include=['object']).columns\n",
        "\n",
        "# Verificar o número de categorias únicas em cada coluna categórica\n",
        "for col in colunas_categoricas:\n",
        "    num_unique = new_df_cleaned[col].nunique()\n",
        "    print(f\"{col}: {num_unique} unique values\")\n",
        "\n",
        "#print(colunas_categoricas)"
      ],
      "metadata": {
        "colab": {
          "base_uri": "https://localhost:8080/"
        },
        "id": "xVnpqwipBTWJ",
        "outputId": "d7efbb7f-5afe-4893-c538-8b4d9fea66fd"
      },
      "execution_count": null,
      "outputs": [
        {
          "output_type": "stream",
          "name": "stdout",
          "text": [
            "Historic: 2 unique values\n",
            "Disaster Subgroup: 4 unique values\n",
            "Disaster Type: 6 unique values\n",
            "Disaster Subtype: 24 unique values\n",
            "Country: 208 unique values\n",
            "Subregion: 17 unique values\n",
            "Region: 5 unique values\n",
            "OFDA/BHA Response: 2 unique values\n",
            "Appeal: 2 unique values\n",
            "Declaration: 2 unique values\n",
            "Magnitude Scale: 4 unique values\n"
          ]
        }
      ]
    },
    {
      "cell_type": "code",
      "source": [
        "# Inicializando o OneHotEncoder\n",
        "from sklearn.preprocessing import OneHotEncoder\n",
        "\n",
        "encoder = OneHotEncoder(sparse=False) # sparse = False retorna uma matriz densa\n",
        "\n",
        "# Ajusta e transforma os dados categóricos\n",
        "ajusta_dados = encoder.fit_transform(new_df_cleaned[colunas_categoricas])\n",
        "\n",
        "# Cria um DataFrame com os dados transformados\n",
        "transforma_dados = pd.DataFrame(ajusta_dados, columns=encoder.get_feature_names_out(colunas_categoricas), index=new_df_cleaned.index)\n",
        "\n",
        "# Concatena o DataFrame original (sem as colunas categóricas) com o DataFrame codificado\n",
        "novo_df = pd.concat([new_df_cleaned.drop(columns=colunas_categoricas), transforma_dados], axis=1)\n",
        "\n",
        "\n",
        "print(novo_df)"
      ],
      "metadata": {
        "id": "peSFQzdbKEZT",
        "colab": {
          "base_uri": "https://localhost:8080/"
        },
        "outputId": "0f2e531e-376c-434b-a580-a4136d14acb9"
      },
      "execution_count": null,
      "outputs": [
        {
          "output_type": "stream",
          "name": "stderr",
          "text": [
            "/usr/local/lib/python3.10/dist-packages/sklearn/preprocessing/_encoders.py:975: FutureWarning: `sparse` was renamed to `sparse_output` in version 1.2 and will be removed in 1.4. `sparse_output` is ignored unless you leave `sparse` to its default value.\n",
            "  warnings.warn(\n"
          ]
        },
        {
          "output_type": "stream",
          "name": "stdout",
          "text": [
            "       Total Deaths  No. Affected  Total Affected  Total Damage ('000 US$)  \\\n",
            "0              6000      0.001281        0.000157                 0.000143   \n",
            "2               300      0.003464        0.002760                 0.004768   \n",
            "5               140      0.003464        0.002760                 0.004768   \n",
            "6           1250000      0.003464        0.002760                 0.004768   \n",
            "7             11000      0.003464        0.002760                 0.004768   \n",
            "...             ...           ...             ...                      ...   \n",
            "26611            10      0.003464        0.002760                 0.004768   \n",
            "26612             1      0.000012        0.000012                 0.002611   \n",
            "26613             4      0.003464        0.002760                 0.004768   \n",
            "26614             2      0.000005        0.000005                 0.001062   \n",
            "26618             5      0.000030        0.000030                 0.013177   \n",
            "\n",
            "       Historic_No  Historic_Yes  Disaster Subgroup_Climatological  \\\n",
            "0              0.0           1.0                               0.0   \n",
            "2              0.0           1.0                               0.0   \n",
            "5              0.0           1.0                               0.0   \n",
            "6              0.0           1.0                               1.0   \n",
            "7              0.0           1.0                               1.0   \n",
            "...            ...           ...                               ...   \n",
            "26611          1.0           0.0                               0.0   \n",
            "26612          1.0           0.0                               0.0   \n",
            "26613          1.0           0.0                               0.0   \n",
            "26614          1.0           0.0                               1.0   \n",
            "26618          1.0           0.0                               0.0   \n",
            "\n",
            "       Disaster Subgroup_Geophysical  Disaster Subgroup_Hydrological  \\\n",
            "0                                0.0                             0.0   \n",
            "2                                0.0                             1.0   \n",
            "5                                1.0                             0.0   \n",
            "6                                0.0                             0.0   \n",
            "7                                0.0                             0.0   \n",
            "...                              ...                             ...   \n",
            "26611                            0.0                             0.0   \n",
            "26612                            0.0                             0.0   \n",
            "26613                            0.0                             0.0   \n",
            "26614                            0.0                             0.0   \n",
            "26618                            0.0                             0.0   \n",
            "\n",
            "       Disaster Subgroup_Meteorological  ...  OFDA/BHA Response_No  \\\n",
            "0                                   1.0  ...                   1.0   \n",
            "2                                   0.0  ...                   1.0   \n",
            "5                                   0.0  ...                   1.0   \n",
            "6                                   0.0  ...                   1.0   \n",
            "7                                   0.0  ...                   1.0   \n",
            "...                                 ...  ...                   ...   \n",
            "26611                               1.0  ...                   1.0   \n",
            "26612                               1.0  ...                   1.0   \n",
            "26613                               1.0  ...                   1.0   \n",
            "26614                               0.0  ...                   1.0   \n",
            "26618                               1.0  ...                   1.0   \n",
            "\n",
            "       OFDA/BHA Response_Yes  Appeal_No  Appeal_Yes  Declaration_No  \\\n",
            "0                        0.0        1.0         0.0             1.0   \n",
            "2                        0.0        1.0         0.0             1.0   \n",
            "5                        0.0        1.0         0.0             1.0   \n",
            "6                        0.0        1.0         0.0             1.0   \n",
            "7                        0.0        1.0         0.0             1.0   \n",
            "...                      ...        ...         ...             ...   \n",
            "26611                    0.0        1.0         0.0             1.0   \n",
            "26612                    0.0        1.0         0.0             1.0   \n",
            "26613                    0.0        1.0         0.0             1.0   \n",
            "26614                    0.0        1.0         0.0             0.0   \n",
            "26618                    0.0        1.0         0.0             1.0   \n",
            "\n",
            "       Declaration_Yes  Magnitude Scale_Km2  Magnitude Scale_Kph  \\\n",
            "0                  0.0                  0.0                  1.0   \n",
            "2                  0.0                  1.0                  0.0   \n",
            "5                  0.0                  0.0                  0.0   \n",
            "6                  0.0                  1.0                  0.0   \n",
            "7                  0.0                  1.0                  0.0   \n",
            "...                ...                  ...                  ...   \n",
            "26611              0.0                  0.0                  1.0   \n",
            "26612              0.0                  0.0                  1.0   \n",
            "26613              0.0                  0.0                  1.0   \n",
            "26614              1.0                  1.0                  0.0   \n",
            "26618              0.0                  0.0                  1.0   \n",
            "\n",
            "       Magnitude Scale_Moment Magnitude  Magnitude Scale_°C  \n",
            "0                                   0.0                 0.0  \n",
            "2                                   0.0                 0.0  \n",
            "5                                   1.0                 0.0  \n",
            "6                                   0.0                 0.0  \n",
            "7                                   0.0                 0.0  \n",
            "...                                 ...                 ...  \n",
            "26611                               0.0                 0.0  \n",
            "26612                               0.0                 0.0  \n",
            "26613                               0.0                 0.0  \n",
            "26614                               0.0                 0.0  \n",
            "26618                               0.0                 0.0  \n",
            "\n",
            "[9108 rows x 280 columns]\n"
          ]
        }
      ]
    },
    {
      "cell_type": "markdown",
      "source": [
        "# Separação dos dados em Treino (80%) e Teste (20%) e definição da variável alvo.\n",
        "A variável alvo será o número de mortes (Total Deaths) e os dados foram separados em treino (80%) e teste (20%) como solicitado."
      ],
      "metadata": {
        "id": "4_wrOtrbXXKk"
      }
    },
    {
      "cell_type": "code",
      "source": [
        "# Separação dos dados em treino e teste.\n",
        "\n",
        "from sklearn.model_selection import train_test_split\n",
        "\n",
        "# A coluna 'Total Deaths' é a variável alvo.\n",
        "X = novo_df.drop(columns=['Total Deaths'])\n",
        "y = novo_df['Total Deaths']\n",
        "\n",
        "# Separando os dados em treino (80%) e teste (20%)\n",
        "X_train, X_test, y_train, y_test = train_test_split(X, y, test_size=0.2, random_state=1)\n",
        "\n",
        "#verificando as dimensões dos dados de treinamento e teste\n",
        "X_train.shape, X_test.shape\n",
        "#y_train.shape, y_test.shape\n"
      ],
      "metadata": {
        "colab": {
          "base_uri": "https://localhost:8080/"
        },
        "id": "8yaORRypXy4E",
        "outputId": "cdc8b452-c4be-4746-c871-74006cc5f895"
      },
      "execution_count": null,
      "outputs": [
        {
          "output_type": "execute_result",
          "data": {
            "text/plain": [
              "((7286, 279), (1822, 279))"
            ]
          },
          "metadata": {},
          "execution_count": 25
        }
      ]
    },
    {
      "cell_type": "markdown",
      "source": [
        "# Aplicação do modelo Random Forest"
      ],
      "metadata": {
        "id": "pYXn7PtcZYWm"
      }
    },
    {
      "cell_type": "code",
      "source": [
        "# Aplicação do algoritmo Random Forest\n",
        "\n",
        "from sklearn.ensemble import RandomForestRegressor\n",
        "from sklearn.metrics import mean_squared_error, r2_score\n",
        "\n",
        "# Inicializando o Random Forest Regressor\n",
        "rf_modelo = RandomForestRegressor(n_estimators=50, random_state=1)\n",
        "\n",
        "# Treinando o modelo\n",
        "rf_modelo.fit(X_train, y_train)\n",
        "\n",
        "# Fazendo previsões\n",
        "rf_y_pred = rf_modelo.predict(X_test)\n",
        "\n",
        "# Avaliando o modelo\n",
        "print(f\"RF Mean Squared Error: {mean_squared_error(y_test, rf_y_pred):.4f}\")\n",
        "print(f\"RF R^2 Score: {r2_score(y_test, rf_y_pred):.4f}\")"
      ],
      "metadata": {
        "colab": {
          "base_uri": "https://localhost:8080/"
        },
        "id": "yH92tjEVat5u",
        "outputId": "2069cda2-ea86-4e63-b95b-d45ec52ec78c"
      },
      "execution_count": null,
      "outputs": [
        {
          "output_type": "stream",
          "name": "stdout",
          "text": [
            "RF Mean Squared Error: 7780413481.8554\n",
            "RF R^2 Score: 0.0851\n"
          ]
        }
      ]
    },
    {
      "cell_type": "markdown",
      "source": [
        "#Aplicando RandomizedSearchCV no algoritmo de Random Forest Regressor"
      ],
      "metadata": {
        "id": "nOwi3NTInklV"
      }
    },
    {
      "cell_type": "code",
      "source": [
        "from sklearn.model_selection import RandomizedSearchCV\n",
        "\n",
        "# Definindo o espaço de parâmetros para RandomizedSearchCV\n",
        "param_distributions = {\n",
        "    'n_estimators': [50, 100, 150, 200],\n",
        "    'max_depth': [None, 10, 20, 30, 40],\n",
        "    'min_samples_split': [2, 5, 10],\n",
        "    'min_samples_leaf': [1, 2, 4],\n",
        "    'bootstrap': [True, False],\n",
        "    'random_state': [1]  # Semente para reprodutibilidade\n",
        "}\n",
        "\n",
        "# Inicializando o Random Forest Regressor\n",
        "rf_SCV_modelo = RandomForestRegressor()\n",
        "\n",
        "# Configurando o RandomizedSearchCV\n",
        "random_search_rf = RandomizedSearchCV(\n",
        "    estimator=rf_SCV_modelo,\n",
        "    param_distributions=param_distributions,\n",
        "    n_iter=50,  # Número de combinações de parâmetros a serem testadas\n",
        "    scoring='neg_mean_squared_error',  # Métrica a ser otimizada\n",
        "    cv=3,  # Número de folds na validação cruzada\n",
        "    verbose=1,  # Verbosidade durante o ajuste\n",
        "    random_state=1,\n",
        "    n_jobs=-1  # Utilizar todos os núcleos disponíveis\n",
        ")\n",
        "\n",
        "# Ajustando o modelo com RandomizedSearchCV\n",
        "random_search_rf.fit(X_train, y_train)\n",
        "\n",
        "# Melhor combinação de parâmetros encontrada\n",
        "print(\"Melhores Parâmetros Encontrados:\")\n",
        "print(random_search_rf.best_params_)\n",
        "\n",
        "# Melhor modelo encontrado\n",
        "best_rf_model = random_search_rf.best_estimator_\n",
        "\n",
        "# Fazendo previsões com o melhor modelo\n",
        "rf_SCV_y_pred = best_rf_model.predict(X_test)\n",
        "\n",
        "# Avaliando o modelo\n",
        "mse = mean_squared_error(y_test, rf_SCV_y_pred)\n",
        "r2 = r2_score(y_test, rf_SCV_y_pred)\n",
        "print(f\"RF Mean Squared Error: {mse:.4f}\")\n",
        "print(f\"RF R^2 Score: {r2:.4f}\")"
      ],
      "metadata": {
        "colab": {
          "base_uri": "https://localhost:8080/"
        },
        "id": "NX-y8rCtns7W",
        "outputId": "1fbb0cfb-b6d8-400f-970d-7f9b02267e39"
      },
      "execution_count": null,
      "outputs": [
        {
          "output_type": "stream",
          "name": "stdout",
          "text": [
            "Fitting 3 folds for each of 50 candidates, totalling 150 fits\n",
            "Melhores Parâmetros Encontrados:\n",
            "{'random_state': 1, 'n_estimators': 150, 'min_samples_split': 10, 'min_samples_leaf': 4, 'max_depth': 20, 'bootstrap': True}\n",
            "RF Mean Squared Error: 7602348400.8124\n",
            "RF R^2 Score: 0.1060\n"
          ]
        }
      ]
    },
    {
      "cell_type": "markdown",
      "source": [
        "# Aplicação do Modelo XGBoost"
      ],
      "metadata": {
        "id": "nZjAMlZBZe7-"
      }
    },
    {
      "cell_type": "code",
      "source": [
        "pip install xgboost"
      ],
      "metadata": {
        "id": "QRzQgR1RZV88",
        "colab": {
          "base_uri": "https://localhost:8080/"
        },
        "outputId": "37c7fe1d-24ba-47f8-c944-003cb64ca770"
      },
      "execution_count": null,
      "outputs": [
        {
          "output_type": "stream",
          "name": "stdout",
          "text": [
            "Requirement already satisfied: xgboost in /usr/local/lib/python3.10/dist-packages (2.1.1)\n",
            "Requirement already satisfied: numpy in /usr/local/lib/python3.10/dist-packages (from xgboost) (1.26.4)\n",
            "Requirement already satisfied: nvidia-nccl-cu12 in /usr/local/lib/python3.10/dist-packages (from xgboost) (2.22.3)\n",
            "Requirement already satisfied: scipy in /usr/local/lib/python3.10/dist-packages (from xgboost) (1.13.1)\n"
          ]
        }
      ]
    },
    {
      "cell_type": "code",
      "source": [
        "import xgboost as xgb\n",
        "from sklearn.metrics import mean_squared_error, r2_score\n",
        "\n",
        "# Definindo os parâmetros do modelo\n",
        "params = {\n",
        "    'objective': 'reg:squarederror',  # Objetivo de regressão\n",
        "    'max_depth': 6,  # Profundidade máxima da árvore\n",
        "    'eta': 0.1,  # Taxa de aprendizado\n",
        "    'subsample': 0.8,  # Subamostragem dos dados de treino para cada árvore\n",
        "    'colsample_bytree': 0.8,  # Subamostragem das features para cada árvore\n",
        "    'n_estimators': 100,  # Número de árvores a serem construídas\n",
        "    'seed': 1  # Semente para reprodutibilidade\n",
        "}\n",
        "\n",
        "# Inicializando o XGBRegressor com os parâmetros\n",
        "xgb_model = xgb.XGBRegressor(\n",
        "    objective=params['objective'],\n",
        "    max_depth=params['max_depth'],\n",
        "    learning_rate=params['eta'],\n",
        "    subsample=params['subsample'],\n",
        "    colsample_bytree=params['colsample_bytree'],\n",
        "    n_estimators=params['n_estimators'],\n",
        "    seed=params['seed']\n",
        ")\n",
        "\n",
        "# Treinando o modelo\n",
        "xgb_model.fit(X_train, y_train)\n",
        "\n",
        "# Fazendo previsões\n",
        "xg_y_pred = xgb_model.predict(X_test)\n",
        "\n",
        "# Avaliando o modelo\n",
        "mse = mean_squared_error(y_test, xg_y_pred)\n",
        "r2 = r2_score(y_test, xg_y_pred)\n",
        "print(f\"XG Mean Squared Error: {mse:.4f}\")\n",
        "print(f\"XG R^2 Score: {r2:.4f}\")"
      ],
      "metadata": {
        "colab": {
          "base_uri": "https://localhost:8080/"
        },
        "id": "9_pJCghBaHXT",
        "outputId": "bc37f410-148d-4841-a1db-49063e81ffcf"
      },
      "execution_count": null,
      "outputs": [
        {
          "output_type": "stream",
          "name": "stdout",
          "text": [
            "XG Mean Squared Error: 8262394592.8608\n",
            "XG R^2 Score: 0.0284\n"
          ]
        }
      ]
    },
    {
      "cell_type": "markdown",
      "source": [
        "# Aplicação do Modelo AdaBoost"
      ],
      "metadata": {
        "id": "8-udDHP0cT1q"
      }
    },
    {
      "cell_type": "code",
      "source": [
        "from sklearn.ensemble import AdaBoostRegressor\n",
        "from sklearn.tree import DecisionTreeRegressor\n",
        "\n",
        "# Definindo o modelo base\n",
        "base_model = DecisionTreeRegressor(max_depth=3)\n",
        "\n",
        "# Definindo o modelo AdaBoost\n",
        "ada_model = AdaBoostRegressor(base_model, n_estimators=50, random_state=1)\n",
        "\n",
        "# Treinando o modelo\n",
        "ada_model.fit(X_train, y_train)\n",
        "\n",
        "# Fazendo previsões\n",
        "ada_y_pred = ada_model.predict(X_test)\n",
        "\n",
        "# Avaliando o modelo\n",
        "print(f\"ADA Mean Squared Error: {mean_squared_error(y_test, ada_y_pred):.4f}\")\n",
        "print(f\"ADA R^2 Score: {r2_score(y_test, ada_y_pred):.4f}\")"
      ],
      "metadata": {
        "colab": {
          "base_uri": "https://localhost:8080/"
        },
        "id": "j89k8IuVcTVu",
        "outputId": "23c47a5d-304b-434e-a277-07eafe1dbf06"
      },
      "execution_count": null,
      "outputs": [
        {
          "output_type": "stream",
          "name": "stdout",
          "text": [
            "ADA Mean Squared Error: 8438869282.6684\n",
            "ADA R^2 Score: 0.0077\n"
          ]
        }
      ]
    },
    {
      "cell_type": "markdown",
      "source": [
        "#Aplicação do Algoritmo de Stacking\n"
      ],
      "metadata": {
        "id": "p4a6jbVodmwQ"
      }
    },
    {
      "cell_type": "code",
      "source": [
        "from sklearn.ensemble import StackingRegressor\n",
        "from sklearn.linear_model import LinearRegression\n",
        "from sklearn.ensemble import GradientBoostingRegressor\n",
        "\n",
        "base_models = [\n",
        "    ('rf', RandomForestRegressor(n_estimators=50, random_state=1)),\n",
        "    ('gb', GradientBoostingRegressor(n_estimators=50, random_state=1))\n",
        "]\n",
        "\n",
        "# Definindo o meta-modelo\n",
        "meta_model = LinearRegression()\n",
        "\n",
        "# Criando o modelo Stacking\n",
        "stacking_model = StackingRegressor(estimators=base_models, final_estimator=meta_model, cv=5)\n",
        "\n",
        "# Treinando o modelo\n",
        "stacking_model.fit(X_train, y_train)\n",
        "\n",
        "# Fazendo previsões\n",
        "stacking_y_pred = stacking_model.predict(X_test)\n",
        "\n",
        "# Avaliando o modelo\n",
        "print(f\"Stacking Mean Squared Error: {mean_squared_error(y_test, stacking_y_pred):.4f}\")\n",
        "print(f\"Stacking R^2 Score: {r2_score(y_test, stacking_y_pred):.4f}\")"
      ],
      "metadata": {
        "colab": {
          "base_uri": "https://localhost:8080/"
        },
        "id": "FchRrA-fdmZY",
        "outputId": "48e8ea8f-9dbd-477a-b739-2110a24beabc"
      },
      "execution_count": null,
      "outputs": [
        {
          "output_type": "stream",
          "name": "stdout",
          "text": [
            "Stacking Mean Squared Error: 8487781364.7079\n",
            "Stacking R^2 Score: 0.0019\n"
          ]
        }
      ]
    },
    {
      "cell_type": "code",
      "source": [
        "# # Calculando a importância das características\n",
        "# importances = modelo.feature_importances_\n",
        "# feature_names = X_train.columns\n",
        "# feature_importance_df = pd.DataFrame({'Feature': feature_names, 'Importance': importances})\n",
        "\n",
        "# # Ordenando por importância\n",
        "# feature_importance_df = feature_importance_df.sort_values(by='Importance', ascending=False)\n",
        "\n",
        "# print(feature_importance_df.head(20))"
      ],
      "metadata": {
        "colab": {
          "base_uri": "https://localhost:8080/"
        },
        "id": "j1DgfYRRGH8t",
        "outputId": "6d7681e9-a8b0-42c5-8279-9823f2d274dd"
      },
      "execution_count": null,
      "outputs": [
        {
          "output_type": "stream",
          "name": "stdout",
          "text": [
            "                              Feature  Importance\n",
            "9             Total Damage ('000 US$)    0.424887\n",
            "7                        No. Affected    0.112729\n",
            "34    Disaster Subtype_Riverine flood    0.071988\n",
            "1                          Start Year    0.047757\n",
            "4                            End Year    0.047628\n",
            "27   Disaster Subtype_Flood (General)    0.037833\n",
            "348                     Country_Haiti    0.028686\n",
            "8                      Total Affected    0.028113\n",
            "6                             End Day    0.024723\n",
            "128                           ISO_HTI    0.023716\n",
            "3                           Start Day    0.018620\n",
            "390                   Country_Myanmar    0.018074\n",
            "508               Magnitude Scale_Km2    0.011928\n",
            "301                     Country_China    0.010441\n",
            "167                           ISO_MMR    0.008231\n",
            "5                           End Month    0.007303\n",
            "2                         Start Month    0.006453\n",
            "502              OFDA/BHA Response_No    0.005114\n",
            "78                            ISO_CHN    0.004371\n",
            "13   Disaster Subgroup_Meteorological    0.004317\n"
          ]
        }
      ]
    },
    {
      "cell_type": "code",
      "source": [
        "# # Visualizando a importância das características\n",
        "# plt.figure(figsize=(10, 8))\n",
        "# plt.barh(feature_importance_df['Feature'][:20], feature_importance_df['Importance'][:20], color='b', align='center')\n",
        "# plt.gca().invert_yaxis()\n",
        "# plt.xlabel('Importância')\n",
        "# plt.title('Importância das Principais Características')\n",
        "# plt.show()"
      ],
      "metadata": {
        "colab": {
          "base_uri": "https://localhost:8080/",
          "height": 719
        },
        "id": "PT7NyuthGPou",
        "outputId": "d177aee6-bbfa-4c36-88ad-76c83590d4bf"
      },
      "execution_count": null,
      "outputs": [
        {
          "output_type": "display_data",
          "data": {
            "text/plain": [
              "<Figure size 1000x800 with 1 Axes>"
            ],
            "image/png": "[encoded data removed]"
          },
          "metadata": {}
        }
      ]
    },
    {
      "cell_type": "markdown",
      "source": [
        "# Futuro do projeto\n",
        "Apesar da avaliação do modelo ter sido instatisfatória a primeiro momento, há outros estudos na literatura que utiliazm da mesma base de dados para algoritmos de machine learning então possivelmente essa avaliação se deu por motivos de manipulação talvez incorreta ou incompleta do dataset, que será posteriormente estudado e avaliado em contjunto da monitoria.\n",
        "\n",
        "Além disso, também é esperado que mais métodos ensembles além do Random Forest,como AdaBoost, XGBoost e Stacking sejam adicionados ao projeto.\n",
        "Para uma melhor performance, um otimizador de parâmetros, como o Grid Search, deverá ser implementado para encontrar a melhor combinação de hiperparâmetros e melhorar o desempenho do algoritmo.\n",
        "\n",
        "Outras técnincas de avaliação para os modelos deverão ser adicionadas ao projeto, como o Cross Validation.\n",
        "\n"
      ],
      "metadata": {
        "id": "acPpk4AlHAlw"
      }
    }
  ]
}